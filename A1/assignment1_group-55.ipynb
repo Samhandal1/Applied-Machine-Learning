{
  "cells": [
    {
      "cell_type": "markdown",
      "metadata": {
        "id": "J8lk7Jr1Yqty"
      },
      "source": [
        "### Assignment 1 - Implement K-Nearest Neighbour (KNN) and Decision Trees (DTs)\n",
        "\n",
        "Group 55: Rebecca Mizrahi (260975001), Samantha Handal (260983914), Amélie Barsoum (260988658)"
      ]
    },
    {
      "cell_type": "markdown",
      "metadata": {
        "id": "IVxDCyn4bN-P"
      },
      "source": [
        "### **Task 1: Acquire, preprocess, and analyze the data**\n"
      ]
    },
    {
      "cell_type": "markdown",
      "metadata": {
        "id": "dzs_41LoCiF_"
      },
      "source": [
        "#### Requirements"
      ]
    },
    {
      "cell_type": "code",
      "execution_count": 1,
      "metadata": {
        "colab": {
          "base_uri": "https://localhost:8080/"
        },
        "id": "yjyq8IfViQdD",
        "outputId": "067b12ea-69fb-4aa7-baf0-59238acf41b2"
      },
      "outputs": [
        {
          "output_type": "stream",
          "name": "stdout",
          "text": [
            "Requirement already satisfied: pandas in /usr/local/lib/python3.10/dist-packages (1.5.3)\n",
            "Requirement already satisfied: python-dateutil>=2.8.1 in /usr/local/lib/python3.10/dist-packages (from pandas) (2.8.2)\n",
            "Requirement already satisfied: pytz>=2020.1 in /usr/local/lib/python3.10/dist-packages (from pandas) (2023.3.post1)\n",
            "Requirement already satisfied: numpy>=1.21.0 in /usr/local/lib/python3.10/dist-packages (from pandas) (1.23.5)\n",
            "Requirement already satisfied: six>=1.5 in /usr/local/lib/python3.10/dist-packages (from python-dateutil>=2.8.1->pandas) (1.16.0)\n",
            "Collecting ucimlrepo\n",
            "  Downloading ucimlrepo-0.0.3-py3-none-any.whl (7.0 kB)\n",
            "Installing collected packages: ucimlrepo\n",
            "Successfully installed ucimlrepo-0.0.3\n"
          ]
        }
      ],
      "source": [
        "!pip install pandas\n",
        "!pip install ucimlrepo\n",
        "\n",
        "import pandas as pd"
      ]
    },
    {
      "cell_type": "markdown",
      "metadata": {
        "id": "ivlzI5oYWjTM"
      },
      "source": [
        "#### 1.1 Import Dataset 1: NHANES_age_prediction.csv (National Health and Nutrition Health Survey 2013-2014 (NHANES) Age Prediction Subset)"
      ]
    },
    {
      "cell_type": "code",
      "execution_count": 2,
      "metadata": {
        "colab": {
          "base_uri": "https://localhost:8080/",
          "height": 424
        },
        "id": "XRMdr9JZkD-I",
        "outputId": "c1f20edf-3319-4bba-e163-434733182db0"
      },
      "outputs": [
        {
          "output_type": "execute_result",
          "data": {
            "text/plain": [
              "      RIAGENDR  PAQ605  BMXBMI  LBXGLU  DIQ010  LBXGLT  LBXIN age_group\n",
              "0          2.0     2.0    35.7   110.0     2.0   150.0  14.91     Adult\n",
              "1          2.0     2.0    20.3    89.0     2.0    80.0   3.85     Adult\n",
              "2          1.0     2.0    23.2    89.0     2.0    68.0   6.14     Adult\n",
              "3          1.0     2.0    28.9   104.0     2.0    84.0  16.15     Adult\n",
              "4          2.0     1.0    35.9   103.0     2.0    81.0  10.92     Adult\n",
              "...        ...     ...     ...     ...     ...     ...    ...       ...\n",
              "2273       2.0     2.0    33.5   100.0     2.0    73.0   6.53     Adult\n",
              "2274       1.0     2.0    30.0    93.0     2.0   208.0  13.02     Adult\n",
              "2275       1.0     2.0    23.7   103.0     2.0   124.0  21.41     Adult\n",
              "2276       2.0     2.0    27.4    90.0     2.0   108.0   4.99     Adult\n",
              "2277       1.0     2.0    24.5   108.0     2.0   108.0   3.76     Adult\n",
              "\n",
              "[2278 rows x 8 columns]"
            ],
            "text/html": [
              "\n",
              "  <div id=\"df-270eacca-687a-4051-9262-3999cbfc4510\" class=\"colab-df-container\">\n",
              "    <div>\n",
              "<style scoped>\n",
              "    .dataframe tbody tr th:only-of-type {\n",
              "        vertical-align: middle;\n",
              "    }\n",
              "\n",
              "    .dataframe tbody tr th {\n",
              "        vertical-align: top;\n",
              "    }\n",
              "\n",
              "    .dataframe thead th {\n",
              "        text-align: right;\n",
              "    }\n",
              "</style>\n",
              "<table border=\"1\" class=\"dataframe\">\n",
              "  <thead>\n",
              "    <tr style=\"text-align: right;\">\n",
              "      <th></th>\n",
              "      <th>RIAGENDR</th>\n",
              "      <th>PAQ605</th>\n",
              "      <th>BMXBMI</th>\n",
              "      <th>LBXGLU</th>\n",
              "      <th>DIQ010</th>\n",
              "      <th>LBXGLT</th>\n",
              "      <th>LBXIN</th>\n",
              "      <th>age_group</th>\n",
              "    </tr>\n",
              "  </thead>\n",
              "  <tbody>\n",
              "    <tr>\n",
              "      <th>0</th>\n",
              "      <td>2.0</td>\n",
              "      <td>2.0</td>\n",
              "      <td>35.7</td>\n",
              "      <td>110.0</td>\n",
              "      <td>2.0</td>\n",
              "      <td>150.0</td>\n",
              "      <td>14.91</td>\n",
              "      <td>Adult</td>\n",
              "    </tr>\n",
              "    <tr>\n",
              "      <th>1</th>\n",
              "      <td>2.0</td>\n",
              "      <td>2.0</td>\n",
              "      <td>20.3</td>\n",
              "      <td>89.0</td>\n",
              "      <td>2.0</td>\n",
              "      <td>80.0</td>\n",
              "      <td>3.85</td>\n",
              "      <td>Adult</td>\n",
              "    </tr>\n",
              "    <tr>\n",
              "      <th>2</th>\n",
              "      <td>1.0</td>\n",
              "      <td>2.0</td>\n",
              "      <td>23.2</td>\n",
              "      <td>89.0</td>\n",
              "      <td>2.0</td>\n",
              "      <td>68.0</td>\n",
              "      <td>6.14</td>\n",
              "      <td>Adult</td>\n",
              "    </tr>\n",
              "    <tr>\n",
              "      <th>3</th>\n",
              "      <td>1.0</td>\n",
              "      <td>2.0</td>\n",
              "      <td>28.9</td>\n",
              "      <td>104.0</td>\n",
              "      <td>2.0</td>\n",
              "      <td>84.0</td>\n",
              "      <td>16.15</td>\n",
              "      <td>Adult</td>\n",
              "    </tr>\n",
              "    <tr>\n",
              "      <th>4</th>\n",
              "      <td>2.0</td>\n",
              "      <td>1.0</td>\n",
              "      <td>35.9</td>\n",
              "      <td>103.0</td>\n",
              "      <td>2.0</td>\n",
              "      <td>81.0</td>\n",
              "      <td>10.92</td>\n",
              "      <td>Adult</td>\n",
              "    </tr>\n",
              "    <tr>\n",
              "      <th>...</th>\n",
              "      <td>...</td>\n",
              "      <td>...</td>\n",
              "      <td>...</td>\n",
              "      <td>...</td>\n",
              "      <td>...</td>\n",
              "      <td>...</td>\n",
              "      <td>...</td>\n",
              "      <td>...</td>\n",
              "    </tr>\n",
              "    <tr>\n",
              "      <th>2273</th>\n",
              "      <td>2.0</td>\n",
              "      <td>2.0</td>\n",
              "      <td>33.5</td>\n",
              "      <td>100.0</td>\n",
              "      <td>2.0</td>\n",
              "      <td>73.0</td>\n",
              "      <td>6.53</td>\n",
              "      <td>Adult</td>\n",
              "    </tr>\n",
              "    <tr>\n",
              "      <th>2274</th>\n",
              "      <td>1.0</td>\n",
              "      <td>2.0</td>\n",
              "      <td>30.0</td>\n",
              "      <td>93.0</td>\n",
              "      <td>2.0</td>\n",
              "      <td>208.0</td>\n",
              "      <td>13.02</td>\n",
              "      <td>Adult</td>\n",
              "    </tr>\n",
              "    <tr>\n",
              "      <th>2275</th>\n",
              "      <td>1.0</td>\n",
              "      <td>2.0</td>\n",
              "      <td>23.7</td>\n",
              "      <td>103.0</td>\n",
              "      <td>2.0</td>\n",
              "      <td>124.0</td>\n",
              "      <td>21.41</td>\n",
              "      <td>Adult</td>\n",
              "    </tr>\n",
              "    <tr>\n",
              "      <th>2276</th>\n",
              "      <td>2.0</td>\n",
              "      <td>2.0</td>\n",
              "      <td>27.4</td>\n",
              "      <td>90.0</td>\n",
              "      <td>2.0</td>\n",
              "      <td>108.0</td>\n",
              "      <td>4.99</td>\n",
              "      <td>Adult</td>\n",
              "    </tr>\n",
              "    <tr>\n",
              "      <th>2277</th>\n",
              "      <td>1.0</td>\n",
              "      <td>2.0</td>\n",
              "      <td>24.5</td>\n",
              "      <td>108.0</td>\n",
              "      <td>2.0</td>\n",
              "      <td>108.0</td>\n",
              "      <td>3.76</td>\n",
              "      <td>Adult</td>\n",
              "    </tr>\n",
              "  </tbody>\n",
              "</table>\n",
              "<p>2278 rows × 8 columns</p>\n",
              "</div>\n",
              "    <div class=\"colab-df-buttons\">\n",
              "\n",
              "  <div class=\"colab-df-container\">\n",
              "    <button class=\"colab-df-convert\" onclick=\"convertToInteractive('df-270eacca-687a-4051-9262-3999cbfc4510')\"\n",
              "            title=\"Convert this dataframe to an interactive table.\"\n",
              "            style=\"display:none;\">\n",
              "\n",
              "  <svg xmlns=\"http://www.w3.org/2000/svg\" height=\"24px\" viewBox=\"0 -960 960 960\">\n",
              "    <path d=\"M120-120v-720h720v720H120Zm60-500h600v-160H180v160Zm220 220h160v-160H400v160Zm0 220h160v-160H400v160ZM180-400h160v-160H180v160Zm440 0h160v-160H620v160ZM180-180h160v-160H180v160Zm440 0h160v-160H620v160Z\"/>\n",
              "  </svg>\n",
              "    </button>\n",
              "\n",
              "  <style>\n",
              "    .colab-df-container {\n",
              "      display:flex;\n",
              "      gap: 12px;\n",
              "    }\n",
              "\n",
              "    .colab-df-convert {\n",
              "      background-color: #E8F0FE;\n",
              "      border: none;\n",
              "      border-radius: 50%;\n",
              "      cursor: pointer;\n",
              "      display: none;\n",
              "      fill: #1967D2;\n",
              "      height: 32px;\n",
              "      padding: 0 0 0 0;\n",
              "      width: 32px;\n",
              "    }\n",
              "\n",
              "    .colab-df-convert:hover {\n",
              "      background-color: #E2EBFA;\n",
              "      box-shadow: 0px 1px 2px rgba(60, 64, 67, 0.3), 0px 1px 3px 1px rgba(60, 64, 67, 0.15);\n",
              "      fill: #174EA6;\n",
              "    }\n",
              "\n",
              "    .colab-df-buttons div {\n",
              "      margin-bottom: 4px;\n",
              "    }\n",
              "\n",
              "    [theme=dark] .colab-df-convert {\n",
              "      background-color: #3B4455;\n",
              "      fill: #D2E3FC;\n",
              "    }\n",
              "\n",
              "    [theme=dark] .colab-df-convert:hover {\n",
              "      background-color: #434B5C;\n",
              "      box-shadow: 0px 1px 3px 1px rgba(0, 0, 0, 0.15);\n",
              "      filter: drop-shadow(0px 1px 2px rgba(0, 0, 0, 0.3));\n",
              "      fill: #FFFFFF;\n",
              "    }\n",
              "  </style>\n",
              "\n",
              "    <script>\n",
              "      const buttonEl =\n",
              "        document.querySelector('#df-270eacca-687a-4051-9262-3999cbfc4510 button.colab-df-convert');\n",
              "      buttonEl.style.display =\n",
              "        google.colab.kernel.accessAllowed ? 'block' : 'none';\n",
              "\n",
              "      async function convertToInteractive(key) {\n",
              "        const element = document.querySelector('#df-270eacca-687a-4051-9262-3999cbfc4510');\n",
              "        const dataTable =\n",
              "          await google.colab.kernel.invokeFunction('convertToInteractive',\n",
              "                                                    [key], {});\n",
              "        if (!dataTable) return;\n",
              "\n",
              "        const docLinkHtml = 'Like what you see? Visit the ' +\n",
              "          '<a target=\"_blank\" href=https://colab.research.google.com/notebooks/data_table.ipynb>data table notebook</a>'\n",
              "          + ' to learn more about interactive tables.';\n",
              "        element.innerHTML = '';\n",
              "        dataTable['output_type'] = 'display_data';\n",
              "        await google.colab.output.renderOutput(dataTable, element);\n",
              "        const docLink = document.createElement('div');\n",
              "        docLink.innerHTML = docLinkHtml;\n",
              "        element.appendChild(docLink);\n",
              "      }\n",
              "    </script>\n",
              "  </div>\n",
              "\n",
              "\n",
              "<div id=\"df-a843ad97-659e-4edb-bbc4-5ee3b2d697cf\">\n",
              "  <button class=\"colab-df-quickchart\" onclick=\"quickchart('df-a843ad97-659e-4edb-bbc4-5ee3b2d697cf')\"\n",
              "            title=\"Suggest charts\"\n",
              "            style=\"display:none;\">\n",
              "\n",
              "<svg xmlns=\"http://www.w3.org/2000/svg\" height=\"24px\"viewBox=\"0 0 24 24\"\n",
              "     width=\"24px\">\n",
              "    <g>\n",
              "        <path d=\"M19 3H5c-1.1 0-2 .9-2 2v14c0 1.1.9 2 2 2h14c1.1 0 2-.9 2-2V5c0-1.1-.9-2-2-2zM9 17H7v-7h2v7zm4 0h-2V7h2v10zm4 0h-2v-4h2v4z\"/>\n",
              "    </g>\n",
              "</svg>\n",
              "  </button>\n",
              "\n",
              "<style>\n",
              "  .colab-df-quickchart {\n",
              "      --bg-color: #E8F0FE;\n",
              "      --fill-color: #1967D2;\n",
              "      --hover-bg-color: #E2EBFA;\n",
              "      --hover-fill-color: #174EA6;\n",
              "      --disabled-fill-color: #AAA;\n",
              "      --disabled-bg-color: #DDD;\n",
              "  }\n",
              "\n",
              "  [theme=dark] .colab-df-quickchart {\n",
              "      --bg-color: #3B4455;\n",
              "      --fill-color: #D2E3FC;\n",
              "      --hover-bg-color: #434B5C;\n",
              "      --hover-fill-color: #FFFFFF;\n",
              "      --disabled-bg-color: #3B4455;\n",
              "      --disabled-fill-color: #666;\n",
              "  }\n",
              "\n",
              "  .colab-df-quickchart {\n",
              "    background-color: var(--bg-color);\n",
              "    border: none;\n",
              "    border-radius: 50%;\n",
              "    cursor: pointer;\n",
              "    display: none;\n",
              "    fill: var(--fill-color);\n",
              "    height: 32px;\n",
              "    padding: 0;\n",
              "    width: 32px;\n",
              "  }\n",
              "\n",
              "  .colab-df-quickchart:hover {\n",
              "    background-color: var(--hover-bg-color);\n",
              "    box-shadow: 0 1px 2px rgba(60, 64, 67, 0.3), 0 1px 3px 1px rgba(60, 64, 67, 0.15);\n",
              "    fill: var(--button-hover-fill-color);\n",
              "  }\n",
              "\n",
              "  .colab-df-quickchart-complete:disabled,\n",
              "  .colab-df-quickchart-complete:disabled:hover {\n",
              "    background-color: var(--disabled-bg-color);\n",
              "    fill: var(--disabled-fill-color);\n",
              "    box-shadow: none;\n",
              "  }\n",
              "\n",
              "  .colab-df-spinner {\n",
              "    border: 2px solid var(--fill-color);\n",
              "    border-color: transparent;\n",
              "    border-bottom-color: var(--fill-color);\n",
              "    animation:\n",
              "      spin 1s steps(1) infinite;\n",
              "  }\n",
              "\n",
              "  @keyframes spin {\n",
              "    0% {\n",
              "      border-color: transparent;\n",
              "      border-bottom-color: var(--fill-color);\n",
              "      border-left-color: var(--fill-color);\n",
              "    }\n",
              "    20% {\n",
              "      border-color: transparent;\n",
              "      border-left-color: var(--fill-color);\n",
              "      border-top-color: var(--fill-color);\n",
              "    }\n",
              "    30% {\n",
              "      border-color: transparent;\n",
              "      border-left-color: var(--fill-color);\n",
              "      border-top-color: var(--fill-color);\n",
              "      border-right-color: var(--fill-color);\n",
              "    }\n",
              "    40% {\n",
              "      border-color: transparent;\n",
              "      border-right-color: var(--fill-color);\n",
              "      border-top-color: var(--fill-color);\n",
              "    }\n",
              "    60% {\n",
              "      border-color: transparent;\n",
              "      border-right-color: var(--fill-color);\n",
              "    }\n",
              "    80% {\n",
              "      border-color: transparent;\n",
              "      border-right-color: var(--fill-color);\n",
              "      border-bottom-color: var(--fill-color);\n",
              "    }\n",
              "    90% {\n",
              "      border-color: transparent;\n",
              "      border-bottom-color: var(--fill-color);\n",
              "    }\n",
              "  }\n",
              "</style>\n",
              "\n",
              "  <script>\n",
              "    async function quickchart(key) {\n",
              "      const quickchartButtonEl =\n",
              "        document.querySelector('#' + key + ' button');\n",
              "      quickchartButtonEl.disabled = true;  // To prevent multiple clicks.\n",
              "      quickchartButtonEl.classList.add('colab-df-spinner');\n",
              "      try {\n",
              "        const charts = await google.colab.kernel.invokeFunction(\n",
              "            'suggestCharts', [key], {});\n",
              "      } catch (error) {\n",
              "        console.error('Error during call to suggestCharts:', error);\n",
              "      }\n",
              "      quickchartButtonEl.classList.remove('colab-df-spinner');\n",
              "      quickchartButtonEl.classList.add('colab-df-quickchart-complete');\n",
              "    }\n",
              "    (() => {\n",
              "      let quickchartButtonEl =\n",
              "        document.querySelector('#df-a843ad97-659e-4edb-bbc4-5ee3b2d697cf button');\n",
              "      quickchartButtonEl.style.display =\n",
              "        google.colab.kernel.accessAllowed ? 'block' : 'none';\n",
              "    })();\n",
              "  </script>\n",
              "</div>\n",
              "\n",
              "  <div id=\"id_947da33d-4eca-4924-9636-d5ef6add1cff\">\n",
              "    <style>\n",
              "      .colab-df-generate {\n",
              "        background-color: #E8F0FE;\n",
              "        border: none;\n",
              "        border-radius: 50%;\n",
              "        cursor: pointer;\n",
              "        display: none;\n",
              "        fill: #1967D2;\n",
              "        height: 32px;\n",
              "        padding: 0 0 0 0;\n",
              "        width: 32px;\n",
              "      }\n",
              "\n",
              "      .colab-df-generate:hover {\n",
              "        background-color: #E2EBFA;\n",
              "        box-shadow: 0px 1px 2px rgba(60, 64, 67, 0.3), 0px 1px 3px 1px rgba(60, 64, 67, 0.15);\n",
              "        fill: #174EA6;\n",
              "      }\n",
              "\n",
              "      [theme=dark] .colab-df-generate {\n",
              "        background-color: #3B4455;\n",
              "        fill: #D2E3FC;\n",
              "      }\n",
              "\n",
              "      [theme=dark] .colab-df-generate:hover {\n",
              "        background-color: #434B5C;\n",
              "        box-shadow: 0px 1px 3px 1px rgba(0, 0, 0, 0.15);\n",
              "        filter: drop-shadow(0px 1px 2px rgba(0, 0, 0, 0.3));\n",
              "        fill: #FFFFFF;\n",
              "      }\n",
              "    </style>\n",
              "    <button class=\"colab-df-generate\" onclick=\"generateWithVariable('nhanes_df')\"\n",
              "            title=\"Generate code using this dataframe.\"\n",
              "            style=\"display:none;\">\n",
              "\n",
              "  <svg xmlns=\"http://www.w3.org/2000/svg\" height=\"24px\"viewBox=\"0 0 24 24\"\n",
              "       width=\"24px\">\n",
              "    <path d=\"M7,19H8.4L18.45,9,17,7.55,7,17.6ZM5,21V16.75L18.45,3.32a2,2,0,0,1,2.83,0l1.4,1.43a1.91,1.91,0,0,1,.58,1.4,1.91,1.91,0,0,1-.58,1.4L9.25,21ZM18.45,9,17,7.55Zm-12,3A5.31,5.31,0,0,0,4.9,8.1,5.31,5.31,0,0,0,1,6.5,5.31,5.31,0,0,0,4.9,4.9,5.31,5.31,0,0,0,6.5,1,5.31,5.31,0,0,0,8.1,4.9,5.31,5.31,0,0,0,12,6.5,5.46,5.46,0,0,0,6.5,12Z\"/>\n",
              "  </svg>\n",
              "    </button>\n",
              "    <script>\n",
              "      (() => {\n",
              "      const buttonEl =\n",
              "        document.querySelector('#id_947da33d-4eca-4924-9636-d5ef6add1cff button.colab-df-generate');\n",
              "      buttonEl.style.display =\n",
              "        google.colab.kernel.accessAllowed ? 'block' : 'none';\n",
              "\n",
              "      buttonEl.onclick = () => {\n",
              "        google.colab.notebook.generateWithVariable('nhanes_df');\n",
              "      }\n",
              "      })();\n",
              "    </script>\n",
              "  </div>\n",
              "\n",
              "    </div>\n",
              "  </div>\n"
            ]
          },
          "metadata": {},
          "execution_count": 2
        }
      ],
      "source": [
        "from ucimlrepo import fetch_ucirepo\n",
        "\n",
        "# fetch dataset\n",
        "national_health_and_nutrition_health_survey_2013_2014_nhanes_age_prediction_subset = fetch_ucirepo(id=887)\n",
        "\n",
        "# data (as pandas dataframes)\n",
        "X = pd.DataFrame(national_health_and_nutrition_health_survey_2013_2014_nhanes_age_prediction_subset.data.features)\n",
        "y = pd.DataFrame(national_health_and_nutrition_health_survey_2013_2014_nhanes_age_prediction_subset.data.targets)\n",
        "\n",
        "# Concatenate X and y for easier analysis\n",
        "nhanes_df = pd.concat([X, y], axis=1)\n",
        "\n",
        "nhanes_df"
      ]
    },
    {
      "cell_type": "code",
      "execution_count": 3,
      "metadata": {
        "colab": {
          "base_uri": "https://localhost:8080/"
        },
        "id": "lZRFvJRkWLxw",
        "outputId": "cad5bbf8-662c-4af0-915d-a1b79526968d"
      },
      "outputs": [
        {
          "output_type": "stream",
          "name": "stdout",
          "text": [
            "<class 'pandas.core.frame.DataFrame'>\n",
            "RangeIndex: 2278 entries, 0 to 2277\n",
            "Data columns (total 8 columns):\n",
            " #   Column     Non-Null Count  Dtype  \n",
            "---  ------     --------------  -----  \n",
            " 0   RIAGENDR   2278 non-null   float64\n",
            " 1   PAQ605     2278 non-null   float64\n",
            " 2   BMXBMI     2278 non-null   float64\n",
            " 3   LBXGLU     2278 non-null   float64\n",
            " 4   DIQ010     2278 non-null   float64\n",
            " 5   LBXGLT     2278 non-null   float64\n",
            " 6   LBXIN      2278 non-null   float64\n",
            " 7   age_group  2278 non-null   object \n",
            "dtypes: float64(7), object(1)\n",
            "memory usage: 142.5+ KB\n",
            "\n",
            "Shape:(2278, 8)\n"
          ]
        }
      ],
      "source": [
        "# Provides essential info about the dataset\n",
        "nhanes_df.info()\n",
        "print()\n",
        "print(\"Shape:\" + str(nhanes_df.shape))"
      ]
    },
    {
      "cell_type": "code",
      "execution_count": 4,
      "metadata": {
        "colab": {
          "base_uri": "https://localhost:8080/"
        },
        "id": "gPkCxtmGVXvL",
        "outputId": "1dcc5cef-b410-42b2-b7d5-134dd11fa13f"
      },
      "outputs": [
        {
          "output_type": "stream",
          "name": "stdout",
          "text": [
            "      RIAGENDR  PAQ605  BMXBMI  LBXGLU  DIQ010  LBXGLT  LBXIN age_group\n",
            "0          2.0     2.0    35.7   110.0     2.0   150.0  14.91     Adult\n",
            "1          2.0     2.0    20.3    89.0     2.0    80.0   3.85     Adult\n",
            "2          1.0     2.0    23.2    89.0     2.0    68.0   6.14     Adult\n",
            "3          1.0     2.0    28.9   104.0     2.0    84.0  16.15     Adult\n",
            "4          2.0     1.0    35.9   103.0     2.0    81.0  10.92     Adult\n",
            "...        ...     ...     ...     ...     ...     ...    ...       ...\n",
            "2273       2.0     2.0    33.5   100.0     2.0    73.0   6.53     Adult\n",
            "2274       1.0     2.0    30.0    93.0     2.0   208.0  13.02     Adult\n",
            "2275       1.0     2.0    23.7   103.0     2.0   124.0  21.41     Adult\n",
            "2276       2.0     2.0    27.4    90.0     2.0   108.0   4.99     Adult\n",
            "2277       1.0     2.0    24.5   108.0     2.0   108.0   3.76     Adult\n",
            "\n",
            "[2278 rows x 8 columns]\n"
          ]
        }
      ],
      "source": [
        "# Check for missing values\n",
        "missing_values = X.isnull().sum()\n",
        "\n",
        "# If there are missing values, drop those rows\n",
        "if missing_values.any():\n",
        "    X = X.dropna()\n",
        "    print(X.index + \" dropped\")\n",
        "    y = y.loc[X.index]  # Update y accordingly if rows are dropped from X\n",
        "\n",
        "    print(\"New shape:\" + str(nhanes_df.shape))\n",
        "print(nhanes_df)"
      ]
    },
    {
      "cell_type": "code",
      "execution_count": 5,
      "metadata": {
        "colab": {
          "base_uri": "https://localhost:8080/"
        },
        "id": "Ux11eZgUFdfB",
        "outputId": "7d52e4e0-c00a-40e5-ade9-8f0e00bbdb08"
      },
      "outputs": [
        {
          "output_type": "stream",
          "name": "stdout",
          "text": [
            "      RIAGENDR  PAQ605  BMXBMI  LBXGLU  DIQ010  LBXGLT  LBXIN  age_group\n",
            "0          2.0     2.0    35.7   110.0     2.0   150.0  14.91          1\n",
            "1          2.0     2.0    20.3    89.0     2.0    80.0   3.85          1\n",
            "2          1.0     2.0    23.2    89.0     2.0    68.0   6.14          1\n",
            "3          1.0     2.0    28.9   104.0     2.0    84.0  16.15          1\n",
            "4          2.0     1.0    35.9   103.0     2.0    81.0  10.92          1\n",
            "...        ...     ...     ...     ...     ...     ...    ...        ...\n",
            "2273       2.0     2.0    33.5   100.0     2.0    73.0   6.53          1\n",
            "2274       1.0     2.0    30.0    93.0     2.0   208.0  13.02          1\n",
            "2275       1.0     2.0    23.7   103.0     2.0   124.0  21.41          1\n",
            "2276       2.0     2.0    27.4    90.0     2.0   108.0   4.99          1\n",
            "2277       1.0     2.0    24.5   108.0     2.0   108.0   3.76          1\n",
            "\n",
            "[2278 rows x 8 columns]\n"
          ]
        }
      ],
      "source": [
        "\"\"\"\n",
        "Convert target to 1s and 0s -> Change \"Adult\" to 1, \"Senior\" to 0\n",
        "\"\"\"\n",
        "# Convert 'age_group' to numerical values\n",
        "nhanes_df['age_group'] = nhanes_df['age_group'].map({'Adult': 1, 'Senior': 0})\n",
        "\n",
        "# Print the updated DataFrame\n",
        "print(nhanes_df)"
      ]
    },
    {
      "cell_type": "markdown",
      "metadata": {
        "id": "pHCb3BlWWaHt"
      },
      "source": [
        "#### 1.2 Import Dataset 2: Breast Cancer Wisconsin (Original)"
      ]
    },
    {
      "cell_type": "code",
      "execution_count": 6,
      "metadata": {
        "colab": {
          "base_uri": "https://localhost:8080/",
          "height": 444
        },
        "id": "9oiYWNPWj5gE",
        "outputId": "af8fb978-ba63-4808-c5e6-5a747b466792"
      },
      "outputs": [
        {
          "output_type": "execute_result",
          "data": {
            "text/plain": [
              "     Clump_thickness  Uniformity_of_cell_size  Uniformity_of_cell_shape  \\\n",
              "0                  5                        1                         1   \n",
              "1                  5                        4                         4   \n",
              "2                  3                        1                         1   \n",
              "3                  6                        8                         8   \n",
              "4                  4                        1                         1   \n",
              "..               ...                      ...                       ...   \n",
              "694                3                        1                         1   \n",
              "695                2                        1                         1   \n",
              "696                5                       10                        10   \n",
              "697                4                        8                         6   \n",
              "698                4                        8                         8   \n",
              "\n",
              "     Marginal_adhesion  Single_epithelial_cell_size  Bare_nuclei  \\\n",
              "0                    1                            2          1.0   \n",
              "1                    5                            7         10.0   \n",
              "2                    1                            2          2.0   \n",
              "3                    1                            3          4.0   \n",
              "4                    3                            2          1.0   \n",
              "..                 ...                          ...          ...   \n",
              "694                  1                            3          2.0   \n",
              "695                  1                            2          1.0   \n",
              "696                  3                            7          3.0   \n",
              "697                  4                            3          4.0   \n",
              "698                  5                            4          5.0   \n",
              "\n",
              "     Bland_chromatin  Normal_nucleoli  Mitoses  Class  \n",
              "0                  3                1        1      2  \n",
              "1                  3                2        1      2  \n",
              "2                  3                1        1      2  \n",
              "3                  3                7        1      2  \n",
              "4                  3                1        1      2  \n",
              "..               ...              ...      ...    ...  \n",
              "694                1                1        1      2  \n",
              "695                1                1        1      2  \n",
              "696                8               10        2      4  \n",
              "697               10                6        1      4  \n",
              "698               10                4        1      4  \n",
              "\n",
              "[699 rows x 10 columns]"
            ],
            "text/html": [
              "\n",
              "  <div id=\"df-35e780ff-5eb9-402f-9e5c-e5ad88430e75\" class=\"colab-df-container\">\n",
              "    <div>\n",
              "<style scoped>\n",
              "    .dataframe tbody tr th:only-of-type {\n",
              "        vertical-align: middle;\n",
              "    }\n",
              "\n",
              "    .dataframe tbody tr th {\n",
              "        vertical-align: top;\n",
              "    }\n",
              "\n",
              "    .dataframe thead th {\n",
              "        text-align: right;\n",
              "    }\n",
              "</style>\n",
              "<table border=\"1\" class=\"dataframe\">\n",
              "  <thead>\n",
              "    <tr style=\"text-align: right;\">\n",
              "      <th></th>\n",
              "      <th>Clump_thickness</th>\n",
              "      <th>Uniformity_of_cell_size</th>\n",
              "      <th>Uniformity_of_cell_shape</th>\n",
              "      <th>Marginal_adhesion</th>\n",
              "      <th>Single_epithelial_cell_size</th>\n",
              "      <th>Bare_nuclei</th>\n",
              "      <th>Bland_chromatin</th>\n",
              "      <th>Normal_nucleoli</th>\n",
              "      <th>Mitoses</th>\n",
              "      <th>Class</th>\n",
              "    </tr>\n",
              "  </thead>\n",
              "  <tbody>\n",
              "    <tr>\n",
              "      <th>0</th>\n",
              "      <td>5</td>\n",
              "      <td>1</td>\n",
              "      <td>1</td>\n",
              "      <td>1</td>\n",
              "      <td>2</td>\n",
              "      <td>1.0</td>\n",
              "      <td>3</td>\n",
              "      <td>1</td>\n",
              "      <td>1</td>\n",
              "      <td>2</td>\n",
              "    </tr>\n",
              "    <tr>\n",
              "      <th>1</th>\n",
              "      <td>5</td>\n",
              "      <td>4</td>\n",
              "      <td>4</td>\n",
              "      <td>5</td>\n",
              "      <td>7</td>\n",
              "      <td>10.0</td>\n",
              "      <td>3</td>\n",
              "      <td>2</td>\n",
              "      <td>1</td>\n",
              "      <td>2</td>\n",
              "    </tr>\n",
              "    <tr>\n",
              "      <th>2</th>\n",
              "      <td>3</td>\n",
              "      <td>1</td>\n",
              "      <td>1</td>\n",
              "      <td>1</td>\n",
              "      <td>2</td>\n",
              "      <td>2.0</td>\n",
              "      <td>3</td>\n",
              "      <td>1</td>\n",
              "      <td>1</td>\n",
              "      <td>2</td>\n",
              "    </tr>\n",
              "    <tr>\n",
              "      <th>3</th>\n",
              "      <td>6</td>\n",
              "      <td>8</td>\n",
              "      <td>8</td>\n",
              "      <td>1</td>\n",
              "      <td>3</td>\n",
              "      <td>4.0</td>\n",
              "      <td>3</td>\n",
              "      <td>7</td>\n",
              "      <td>1</td>\n",
              "      <td>2</td>\n",
              "    </tr>\n",
              "    <tr>\n",
              "      <th>4</th>\n",
              "      <td>4</td>\n",
              "      <td>1</td>\n",
              "      <td>1</td>\n",
              "      <td>3</td>\n",
              "      <td>2</td>\n",
              "      <td>1.0</td>\n",
              "      <td>3</td>\n",
              "      <td>1</td>\n",
              "      <td>1</td>\n",
              "      <td>2</td>\n",
              "    </tr>\n",
              "    <tr>\n",
              "      <th>...</th>\n",
              "      <td>...</td>\n",
              "      <td>...</td>\n",
              "      <td>...</td>\n",
              "      <td>...</td>\n",
              "      <td>...</td>\n",
              "      <td>...</td>\n",
              "      <td>...</td>\n",
              "      <td>...</td>\n",
              "      <td>...</td>\n",
              "      <td>...</td>\n",
              "    </tr>\n",
              "    <tr>\n",
              "      <th>694</th>\n",
              "      <td>3</td>\n",
              "      <td>1</td>\n",
              "      <td>1</td>\n",
              "      <td>1</td>\n",
              "      <td>3</td>\n",
              "      <td>2.0</td>\n",
              "      <td>1</td>\n",
              "      <td>1</td>\n",
              "      <td>1</td>\n",
              "      <td>2</td>\n",
              "    </tr>\n",
              "    <tr>\n",
              "      <th>695</th>\n",
              "      <td>2</td>\n",
              "      <td>1</td>\n",
              "      <td>1</td>\n",
              "      <td>1</td>\n",
              "      <td>2</td>\n",
              "      <td>1.0</td>\n",
              "      <td>1</td>\n",
              "      <td>1</td>\n",
              "      <td>1</td>\n",
              "      <td>2</td>\n",
              "    </tr>\n",
              "    <tr>\n",
              "      <th>696</th>\n",
              "      <td>5</td>\n",
              "      <td>10</td>\n",
              "      <td>10</td>\n",
              "      <td>3</td>\n",
              "      <td>7</td>\n",
              "      <td>3.0</td>\n",
              "      <td>8</td>\n",
              "      <td>10</td>\n",
              "      <td>2</td>\n",
              "      <td>4</td>\n",
              "    </tr>\n",
              "    <tr>\n",
              "      <th>697</th>\n",
              "      <td>4</td>\n",
              "      <td>8</td>\n",
              "      <td>6</td>\n",
              "      <td>4</td>\n",
              "      <td>3</td>\n",
              "      <td>4.0</td>\n",
              "      <td>10</td>\n",
              "      <td>6</td>\n",
              "      <td>1</td>\n",
              "      <td>4</td>\n",
              "    </tr>\n",
              "    <tr>\n",
              "      <th>698</th>\n",
              "      <td>4</td>\n",
              "      <td>8</td>\n",
              "      <td>8</td>\n",
              "      <td>5</td>\n",
              "      <td>4</td>\n",
              "      <td>5.0</td>\n",
              "      <td>10</td>\n",
              "      <td>4</td>\n",
              "      <td>1</td>\n",
              "      <td>4</td>\n",
              "    </tr>\n",
              "  </tbody>\n",
              "</table>\n",
              "<p>699 rows × 10 columns</p>\n",
              "</div>\n",
              "    <div class=\"colab-df-buttons\">\n",
              "\n",
              "  <div class=\"colab-df-container\">\n",
              "    <button class=\"colab-df-convert\" onclick=\"convertToInteractive('df-35e780ff-5eb9-402f-9e5c-e5ad88430e75')\"\n",
              "            title=\"Convert this dataframe to an interactive table.\"\n",
              "            style=\"display:none;\">\n",
              "\n",
              "  <svg xmlns=\"http://www.w3.org/2000/svg\" height=\"24px\" viewBox=\"0 -960 960 960\">\n",
              "    <path d=\"M120-120v-720h720v720H120Zm60-500h600v-160H180v160Zm220 220h160v-160H400v160Zm0 220h160v-160H400v160ZM180-400h160v-160H180v160Zm440 0h160v-160H620v160ZM180-180h160v-160H180v160Zm440 0h160v-160H620v160Z\"/>\n",
              "  </svg>\n",
              "    </button>\n",
              "\n",
              "  <style>\n",
              "    .colab-df-container {\n",
              "      display:flex;\n",
              "      gap: 12px;\n",
              "    }\n",
              "\n",
              "    .colab-df-convert {\n",
              "      background-color: #E8F0FE;\n",
              "      border: none;\n",
              "      border-radius: 50%;\n",
              "      cursor: pointer;\n",
              "      display: none;\n",
              "      fill: #1967D2;\n",
              "      height: 32px;\n",
              "      padding: 0 0 0 0;\n",
              "      width: 32px;\n",
              "    }\n",
              "\n",
              "    .colab-df-convert:hover {\n",
              "      background-color: #E2EBFA;\n",
              "      box-shadow: 0px 1px 2px rgba(60, 64, 67, 0.3), 0px 1px 3px 1px rgba(60, 64, 67, 0.15);\n",
              "      fill: #174EA6;\n",
              "    }\n",
              "\n",
              "    .colab-df-buttons div {\n",
              "      margin-bottom: 4px;\n",
              "    }\n",
              "\n",
              "    [theme=dark] .colab-df-convert {\n",
              "      background-color: #3B4455;\n",
              "      fill: #D2E3FC;\n",
              "    }\n",
              "\n",
              "    [theme=dark] .colab-df-convert:hover {\n",
              "      background-color: #434B5C;\n",
              "      box-shadow: 0px 1px 3px 1px rgba(0, 0, 0, 0.15);\n",
              "      filter: drop-shadow(0px 1px 2px rgba(0, 0, 0, 0.3));\n",
              "      fill: #FFFFFF;\n",
              "    }\n",
              "  </style>\n",
              "\n",
              "    <script>\n",
              "      const buttonEl =\n",
              "        document.querySelector('#df-35e780ff-5eb9-402f-9e5c-e5ad88430e75 button.colab-df-convert');\n",
              "      buttonEl.style.display =\n",
              "        google.colab.kernel.accessAllowed ? 'block' : 'none';\n",
              "\n",
              "      async function convertToInteractive(key) {\n",
              "        const element = document.querySelector('#df-35e780ff-5eb9-402f-9e5c-e5ad88430e75');\n",
              "        const dataTable =\n",
              "          await google.colab.kernel.invokeFunction('convertToInteractive',\n",
              "                                                    [key], {});\n",
              "        if (!dataTable) return;\n",
              "\n",
              "        const docLinkHtml = 'Like what you see? Visit the ' +\n",
              "          '<a target=\"_blank\" href=https://colab.research.google.com/notebooks/data_table.ipynb>data table notebook</a>'\n",
              "          + ' to learn more about interactive tables.';\n",
              "        element.innerHTML = '';\n",
              "        dataTable['output_type'] = 'display_data';\n",
              "        await google.colab.output.renderOutput(dataTable, element);\n",
              "        const docLink = document.createElement('div');\n",
              "        docLink.innerHTML = docLinkHtml;\n",
              "        element.appendChild(docLink);\n",
              "      }\n",
              "    </script>\n",
              "  </div>\n",
              "\n",
              "\n",
              "<div id=\"df-54400147-3e90-4dd3-b588-6738e7611ae2\">\n",
              "  <button class=\"colab-df-quickchart\" onclick=\"quickchart('df-54400147-3e90-4dd3-b588-6738e7611ae2')\"\n",
              "            title=\"Suggest charts\"\n",
              "            style=\"display:none;\">\n",
              "\n",
              "<svg xmlns=\"http://www.w3.org/2000/svg\" height=\"24px\"viewBox=\"0 0 24 24\"\n",
              "     width=\"24px\">\n",
              "    <g>\n",
              "        <path d=\"M19 3H5c-1.1 0-2 .9-2 2v14c0 1.1.9 2 2 2h14c1.1 0 2-.9 2-2V5c0-1.1-.9-2-2-2zM9 17H7v-7h2v7zm4 0h-2V7h2v10zm4 0h-2v-4h2v4z\"/>\n",
              "    </g>\n",
              "</svg>\n",
              "  </button>\n",
              "\n",
              "<style>\n",
              "  .colab-df-quickchart {\n",
              "      --bg-color: #E8F0FE;\n",
              "      --fill-color: #1967D2;\n",
              "      --hover-bg-color: #E2EBFA;\n",
              "      --hover-fill-color: #174EA6;\n",
              "      --disabled-fill-color: #AAA;\n",
              "      --disabled-bg-color: #DDD;\n",
              "  }\n",
              "\n",
              "  [theme=dark] .colab-df-quickchart {\n",
              "      --bg-color: #3B4455;\n",
              "      --fill-color: #D2E3FC;\n",
              "      --hover-bg-color: #434B5C;\n",
              "      --hover-fill-color: #FFFFFF;\n",
              "      --disabled-bg-color: #3B4455;\n",
              "      --disabled-fill-color: #666;\n",
              "  }\n",
              "\n",
              "  .colab-df-quickchart {\n",
              "    background-color: var(--bg-color);\n",
              "    border: none;\n",
              "    border-radius: 50%;\n",
              "    cursor: pointer;\n",
              "    display: none;\n",
              "    fill: var(--fill-color);\n",
              "    height: 32px;\n",
              "    padding: 0;\n",
              "    width: 32px;\n",
              "  }\n",
              "\n",
              "  .colab-df-quickchart:hover {\n",
              "    background-color: var(--hover-bg-color);\n",
              "    box-shadow: 0 1px 2px rgba(60, 64, 67, 0.3), 0 1px 3px 1px rgba(60, 64, 67, 0.15);\n",
              "    fill: var(--button-hover-fill-color);\n",
              "  }\n",
              "\n",
              "  .colab-df-quickchart-complete:disabled,\n",
              "  .colab-df-quickchart-complete:disabled:hover {\n",
              "    background-color: var(--disabled-bg-color);\n",
              "    fill: var(--disabled-fill-color);\n",
              "    box-shadow: none;\n",
              "  }\n",
              "\n",
              "  .colab-df-spinner {\n",
              "    border: 2px solid var(--fill-color);\n",
              "    border-color: transparent;\n",
              "    border-bottom-color: var(--fill-color);\n",
              "    animation:\n",
              "      spin 1s steps(1) infinite;\n",
              "  }\n",
              "\n",
              "  @keyframes spin {\n",
              "    0% {\n",
              "      border-color: transparent;\n",
              "      border-bottom-color: var(--fill-color);\n",
              "      border-left-color: var(--fill-color);\n",
              "    }\n",
              "    20% {\n",
              "      border-color: transparent;\n",
              "      border-left-color: var(--fill-color);\n",
              "      border-top-color: var(--fill-color);\n",
              "    }\n",
              "    30% {\n",
              "      border-color: transparent;\n",
              "      border-left-color: var(--fill-color);\n",
              "      border-top-color: var(--fill-color);\n",
              "      border-right-color: var(--fill-color);\n",
              "    }\n",
              "    40% {\n",
              "      border-color: transparent;\n",
              "      border-right-color: var(--fill-color);\n",
              "      border-top-color: var(--fill-color);\n",
              "    }\n",
              "    60% {\n",
              "      border-color: transparent;\n",
              "      border-right-color: var(--fill-color);\n",
              "    }\n",
              "    80% {\n",
              "      border-color: transparent;\n",
              "      border-right-color: var(--fill-color);\n",
              "      border-bottom-color: var(--fill-color);\n",
              "    }\n",
              "    90% {\n",
              "      border-color: transparent;\n",
              "      border-bottom-color: var(--fill-color);\n",
              "    }\n",
              "  }\n",
              "</style>\n",
              "\n",
              "  <script>\n",
              "    async function quickchart(key) {\n",
              "      const quickchartButtonEl =\n",
              "        document.querySelector('#' + key + ' button');\n",
              "      quickchartButtonEl.disabled = true;  // To prevent multiple clicks.\n",
              "      quickchartButtonEl.classList.add('colab-df-spinner');\n",
              "      try {\n",
              "        const charts = await google.colab.kernel.invokeFunction(\n",
              "            'suggestCharts', [key], {});\n",
              "      } catch (error) {\n",
              "        console.error('Error during call to suggestCharts:', error);\n",
              "      }\n",
              "      quickchartButtonEl.classList.remove('colab-df-spinner');\n",
              "      quickchartButtonEl.classList.add('colab-df-quickchart-complete');\n",
              "    }\n",
              "    (() => {\n",
              "      let quickchartButtonEl =\n",
              "        document.querySelector('#df-54400147-3e90-4dd3-b588-6738e7611ae2 button');\n",
              "      quickchartButtonEl.style.display =\n",
              "        google.colab.kernel.accessAllowed ? 'block' : 'none';\n",
              "    })();\n",
              "  </script>\n",
              "</div>\n",
              "\n",
              "  <div id=\"id_021f13ef-de86-4ff4-9554-351cc1cd90dd\">\n",
              "    <style>\n",
              "      .colab-df-generate {\n",
              "        background-color: #E8F0FE;\n",
              "        border: none;\n",
              "        border-radius: 50%;\n",
              "        cursor: pointer;\n",
              "        display: none;\n",
              "        fill: #1967D2;\n",
              "        height: 32px;\n",
              "        padding: 0 0 0 0;\n",
              "        width: 32px;\n",
              "      }\n",
              "\n",
              "      .colab-df-generate:hover {\n",
              "        background-color: #E2EBFA;\n",
              "        box-shadow: 0px 1px 2px rgba(60, 64, 67, 0.3), 0px 1px 3px 1px rgba(60, 64, 67, 0.15);\n",
              "        fill: #174EA6;\n",
              "      }\n",
              "\n",
              "      [theme=dark] .colab-df-generate {\n",
              "        background-color: #3B4455;\n",
              "        fill: #D2E3FC;\n",
              "      }\n",
              "\n",
              "      [theme=dark] .colab-df-generate:hover {\n",
              "        background-color: #434B5C;\n",
              "        box-shadow: 0px 1px 3px 1px rgba(0, 0, 0, 0.15);\n",
              "        filter: drop-shadow(0px 1px 2px rgba(0, 0, 0, 0.3));\n",
              "        fill: #FFFFFF;\n",
              "      }\n",
              "    </style>\n",
              "    <button class=\"colab-df-generate\" onclick=\"generateWithVariable('breast_cancer_df')\"\n",
              "            title=\"Generate code using this dataframe.\"\n",
              "            style=\"display:none;\">\n",
              "\n",
              "  <svg xmlns=\"http://www.w3.org/2000/svg\" height=\"24px\"viewBox=\"0 0 24 24\"\n",
              "       width=\"24px\">\n",
              "    <path d=\"M7,19H8.4L18.45,9,17,7.55,7,17.6ZM5,21V16.75L18.45,3.32a2,2,0,0,1,2.83,0l1.4,1.43a1.91,1.91,0,0,1,.58,1.4,1.91,1.91,0,0,1-.58,1.4L9.25,21ZM18.45,9,17,7.55Zm-12,3A5.31,5.31,0,0,0,4.9,8.1,5.31,5.31,0,0,0,1,6.5,5.31,5.31,0,0,0,4.9,4.9,5.31,5.31,0,0,0,6.5,1,5.31,5.31,0,0,0,8.1,4.9,5.31,5.31,0,0,0,12,6.5,5.46,5.46,0,0,0,6.5,12Z\"/>\n",
              "  </svg>\n",
              "    </button>\n",
              "    <script>\n",
              "      (() => {\n",
              "      const buttonEl =\n",
              "        document.querySelector('#id_021f13ef-de86-4ff4-9554-351cc1cd90dd button.colab-df-generate');\n",
              "      buttonEl.style.display =\n",
              "        google.colab.kernel.accessAllowed ? 'block' : 'none';\n",
              "\n",
              "      buttonEl.onclick = () => {\n",
              "        google.colab.notebook.generateWithVariable('breast_cancer_df');\n",
              "      }\n",
              "      })();\n",
              "    </script>\n",
              "  </div>\n",
              "\n",
              "    </div>\n",
              "  </div>\n"
            ]
          },
          "metadata": {},
          "execution_count": 6
        }
      ],
      "source": [
        "from ucimlrepo import fetch_ucirepo\n",
        "\n",
        "# fetch dataset\n",
        "breast_cancer_wisconsin_original = fetch_ucirepo(id=15)\n",
        "\n",
        "# data (as pandas dataframes)\n",
        "X = pd.DataFrame(breast_cancer_wisconsin_original.data.features)\n",
        "y = pd.DataFrame(breast_cancer_wisconsin_original.data.targets)\n",
        "\n",
        "# Concatenate X and y for easier analysis\n",
        "breast_cancer_df = pd.concat([X, y], axis=1)\n",
        "\n",
        "breast_cancer_df"
      ]
    },
    {
      "cell_type": "code",
      "execution_count": 7,
      "metadata": {
        "colab": {
          "base_uri": "https://localhost:8080/"
        },
        "id": "6nSEBB1wXJ4_",
        "outputId": "f607b992-a7da-47e0-ec5f-be143829b41e"
      },
      "outputs": [
        {
          "output_type": "stream",
          "name": "stdout",
          "text": [
            "<class 'pandas.core.frame.DataFrame'>\n",
            "RangeIndex: 699 entries, 0 to 698\n",
            "Data columns (total 10 columns):\n",
            " #   Column                       Non-Null Count  Dtype  \n",
            "---  ------                       --------------  -----  \n",
            " 0   Clump_thickness              699 non-null    int64  \n",
            " 1   Uniformity_of_cell_size      699 non-null    int64  \n",
            " 2   Uniformity_of_cell_shape     699 non-null    int64  \n",
            " 3   Marginal_adhesion            699 non-null    int64  \n",
            " 4   Single_epithelial_cell_size  699 non-null    int64  \n",
            " 5   Bare_nuclei                  683 non-null    float64\n",
            " 6   Bland_chromatin              699 non-null    int64  \n",
            " 7   Normal_nucleoli              699 non-null    int64  \n",
            " 8   Mitoses                      699 non-null    int64  \n",
            " 9   Class                        699 non-null    int64  \n",
            "dtypes: float64(1), int64(9)\n",
            "memory usage: 54.7 KB\n",
            "\n",
            "Shape:\n"
          ]
        },
        {
          "output_type": "execute_result",
          "data": {
            "text/plain": [
              "(699, 10)"
            ]
          },
          "metadata": {},
          "execution_count": 7
        }
      ],
      "source": [
        "# Provides essential info about the dataset\n",
        "breast_cancer_df.info()\n",
        "print()\n",
        "print(\"Shape:\")\n",
        "breast_cancer_df.shape"
      ]
    },
    {
      "cell_type": "code",
      "execution_count": 8,
      "metadata": {
        "colab": {
          "base_uri": "https://localhost:8080/"
        },
        "id": "bzG5iKaIVhL9",
        "outputId": "8e550579-2ac2-4f7c-a4dd-980a22afb28e"
      },
      "outputs": [
        {
          "output_type": "stream",
          "name": "stdout",
          "text": [
            "Int64Index([  0,   1,   2,   3,   4,   5,   6,   7,   8,   9,\n",
            "            ...\n",
            "            689, 690, 691, 692, 693, 694, 695, 696, 697, 698],\n",
            "           dtype='int64', length=683) dropped\n",
            "New shape:(699, 10)\n"
          ]
        }
      ],
      "source": [
        "# Check for missing values\n",
        "missing_values = X.isnull().sum()\n",
        "\n",
        "# If there are missing values, drop those rows\n",
        "if missing_values.any():\n",
        "  X = X.dropna()\n",
        "  print(str(X.index) + \" dropped\")\n",
        "  y = y.loc[X.index]  # Update y accordingly if rows are dropped from X\n",
        "\n",
        "  print(\"New shape:\" + str(breast_cancer_df.shape))\n"
      ]
    },
    {
      "cell_type": "markdown",
      "metadata": {
        "id": "0NSgTqdxMs7k"
      },
      "source": [
        "#### 1.3 Gather information on datasets"
      ]
    },
    {
      "cell_type": "code",
      "execution_count": 9,
      "metadata": {
        "colab": {
          "base_uri": "https://localhost:8080/"
        },
        "id": "HffajLI1DbrP",
        "outputId": "5be5d446-a209-4fdd-f078-fa1c2d740afb"
      },
      "outputs": [
        {
          "output_type": "stream",
          "name": "stdout",
          "text": [
            "<bound method DataFrame.info of            RIAGENDR    PAQ605    BMXBMI    LBXGLU    DIQ010    LBXGLT  \\\n",
            "RIAGENDR   1.000000  0.151076  0.063873 -0.132342 -0.032769  0.017406   \n",
            "PAQ605     0.151076  1.000000 -0.042935 -0.007849 -0.002599  0.060413   \n",
            "BMXBMI     0.063873 -0.042935  1.000000  0.208330  0.047133  0.193375   \n",
            "LBXGLU    -0.132342 -0.007849  0.208330  1.000000 -0.004427  0.685579   \n",
            "DIQ010    -0.032769 -0.002599  0.047133 -0.004427  1.000000  0.009796   \n",
            "LBXGLT     0.017406  0.060413  0.193375  0.685579  0.009796  1.000000   \n",
            "LBXIN     -0.016660  0.010011  0.552717  0.211911  0.058986  0.217272   \n",
            "age_group  0.002767 -0.094789  0.004147 -0.116462 -0.026399 -0.243113   \n",
            "\n",
            "              LBXIN  age_group  \n",
            "RIAGENDR  -0.016660   0.002767  \n",
            "PAQ605     0.010011  -0.094789  \n",
            "BMXBMI     0.552717   0.004147  \n",
            "LBXGLU     0.211911  -0.116462  \n",
            "DIQ010     0.058986  -0.026399  \n",
            "LBXGLT     0.217272  -0.243113  \n",
            "LBXIN      1.000000   0.064159  \n",
            "age_group  0.064159   1.000000  >\n",
            "age_group    1.000000\n",
            "LBXIN        0.064159\n",
            "BMXBMI       0.004147\n",
            "RIAGENDR     0.002767\n",
            "DIQ010      -0.026399\n",
            "PAQ605      -0.094789\n",
            "LBXGLU      -0.116462\n",
            "LBXGLT      -0.243113\n",
            "Name: age_group, dtype: float64\n"
          ]
        }
      ],
      "source": [
        "import pandas as pd\n",
        "#print(nhanes_df.columns[-1])\n",
        "\n",
        "# Assuming your DataFrame is named nhanes_df\n",
        "correlation_matrix = nhanes_df.corr()\n",
        "print(correlation_matrix.info)\n",
        "#print(correlation_matrix.iloc[:, -1])\n",
        "\n",
        "# Select the correlation between 'age_group' and other columns\n",
        "correlation_with_target = correlation_matrix[nhanes_df.columns[-1]].sort_values(ascending=False)\n",
        "\n",
        "# Display the correlation values\n",
        "print(correlation_with_target)\n"
      ]
    },
    {
      "cell_type": "code",
      "execution_count": 10,
      "metadata": {
        "colab": {
          "base_uri": "https://localhost:8080/"
        },
        "id": "VTLZ9XLGMuud",
        "outputId": "f081ce05-8a88-4655-8bbd-d2acc0ee1222"
      },
      "outputs": [
        {
          "output_type": "stream",
          "name": "stdout",
          "text": [
            "Info on breast cancer df:\n",
            "Mean of each feature for the positive group:\n",
            " Clump_thickness                7.195021\n",
            "Uniformity_of_cell_size        6.572614\n",
            "Uniformity_of_cell_shape       6.560166\n",
            "Marginal_adhesion              5.547718\n",
            "Single_epithelial_cell_size    5.298755\n",
            "Bare_nuclei                    7.627615\n",
            "Bland_chromatin                5.979253\n",
            "Normal_nucleoli                5.863071\n",
            "Mitoses                        2.589212\n",
            "Class                          4.000000\n",
            "dtype: float64\n",
            "\n",
            "Mean of each feature for the negative group:\n",
            " Clump_thickness                2.956332\n",
            "Uniformity_of_cell_size        1.325328\n",
            "Uniformity_of_cell_shape       1.443231\n",
            "Marginal_adhesion              1.364629\n",
            "Single_epithelial_cell_size    2.120087\n",
            "Bare_nuclei                    1.346847\n",
            "Bland_chromatin                2.100437\n",
            "Normal_nucleoli                1.290393\n",
            "Mitoses                        1.063319\n",
            "Class                          2.000000\n",
            "dtype: float64\n",
            "\n",
            "Feature ranking based on squared difference of group means:\n",
            " Bare_nuclei                    39.448049\n",
            "Uniformity_of_cell_size        27.534017\n",
            "Uniformity_of_cell_shape       26.183019\n",
            "Normal_nucleoli                20.909380\n",
            "Clump_thickness                17.966483\n",
            "Marginal_adhesion              17.498234\n",
            "Bland_chromatin                15.045217\n",
            "Single_epithelial_cell_size    10.103929\n",
            "Class                           4.000000\n",
            "Mitoses                         2.328349\n",
            "dtype: float64\n",
            "\n",
            "Features with low correlation to the target variable:\n",
            "All features are correlated above threshold.\n",
            "\n",
            "Info on NHanes df:\n",
            "Mean of each feature for the positive group:\n",
            " RIAGENDR       1.512017\n",
            "PAQ605         1.806165\n",
            "BMXBMI        27.968286\n",
            "LBXGLU        98.644723\n",
            "DIQ010         2.014107\n",
            "LBXGLT       109.990596\n",
            "LBXIN         12.106661\n",
            "age_group      1.000000\n",
            "dtype: float64\n",
            "\n",
            "Mean of each feature for the negative group:\n",
            " RIAGENDR       1.508242\n",
            "PAQ605         1.909341\n",
            "BMXBMI        27.886264\n",
            "LBXGLU       104.329670\n",
            "DIQ010         2.027473\n",
            "LBXGLT       141.208791\n",
            "LBXIN         10.405247\n",
            "age_group      0.000000\n",
            "dtype: float64\n",
            "\n",
            "Feature ranking based on squared difference of group means:\n",
            " LBXGLT       974.575736\n",
            "LBXGLU        32.318625\n",
            "LBXIN          2.894810\n",
            "age_group      1.000000\n",
            "PAQ605         0.010645\n",
            "BMXBMI         0.006728\n",
            "DIQ010         0.000179\n",
            "RIAGENDR       0.000014\n",
            "dtype: float64\n",
            "\n",
            "Features with low correlation to the target variable:\n",
            "RIAGENDR    0.002767\n",
            "PAQ605      0.094789\n",
            "BMXBMI      0.004147\n",
            "DIQ010      0.026399\n",
            "LBXIN       0.064159\n",
            "Name: age_group, dtype: float64\n"
          ]
        }
      ],
      "source": [
        "def calc_statistics(df, target, positive_class, negative_class):\n",
        "\n",
        "  # Separate positive and negative groups -> 1, 2 **chek which is pos lol\n",
        "  positive_group = df[df[target] == positive_class]\n",
        "  negative_group = df[df[target] == negative_class]\n",
        "\n",
        "  # Compute mean of each feature for positive & negative group\n",
        "  mean_positive = positive_group.mean()\n",
        "  mean_negative = negative_group.mean()\n",
        "\n",
        "  print(\"Mean of each feature for the positive group:\\n\", mean_positive)\n",
        "  print(\"\\nMean of each feature for the negative group:\\n\", mean_negative)\n",
        "\n",
        "  # Rank features based on squared difference of group means\n",
        "  feature_ranking = (mean_positive - mean_negative)**2\n",
        "  feature_ranking = feature_ranking.sort_values(ascending=False)\n",
        "  print(\"\\nFeature ranking based on squared difference of group means:\\n\", feature_ranking)\n",
        "\n",
        "  # Compare squared difference of group means to correlation matrix\n",
        "  correlation_matrix = df.corr()\n",
        "\n",
        "  # Extract the correlation of each feature with the target variable\n",
        "  target_correlation = correlation_matrix[target].abs()\n",
        "\n",
        "  # Set a threshold for correlation (you can adjust this threshold)\n",
        "  correlation_threshold = 0.1\n",
        "\n",
        "  # Identify features with correlation below the threshold\n",
        "  low_correlation_features = target_correlation[target_correlation < correlation_threshold]\n",
        "\n",
        "  # Display the features with low correlation\n",
        "  print(\"\\nFeatures with low correlation to the target variable:\")\n",
        "  print(low_correlation_features) if len(low_correlation_features) != 0 else print(\"All features are correlated above threshold.\")\n",
        "  return low_correlation_features.sort_values(ascending=True)\n",
        "\n",
        "# Run on both datasets.\n",
        "print(\"Info on breast cancer df:\")\n",
        "breast_cancer_df_least_important_features = calc_statistics(breast_cancer_df, \"Class\", 4, 2)\n",
        "print(\"\\nInfo on NHanes df:\")\n",
        "nhanes_df_least_important_features = calc_statistics(nhanes_df, \"age_group\", 1, 0)\n"
      ]
    },
    {
      "cell_type": "markdown",
      "metadata": {
        "id": "n2SMlPj9bYi-"
      },
      "source": [
        "### **Task 2: Implementing KNN and DT**"
      ]
    },
    {
      "cell_type": "markdown",
      "metadata": {
        "id": "oxoA2aOJ_eRs"
      },
      "source": [
        "#### 2.1 KNN"
      ]
    },
    {
      "cell_type": "code",
      "execution_count": 11,
      "metadata": {
        "id": "umKA-k9EJSII"
      },
      "outputs": [],
      "source": [
        "# Implementing KNN\n",
        "import numpy as np\n",
        "\n",
        "euclidean = lambda x1, x2: np.sqrt(np.sum((x1 - x2)**2, axis=-1))\n",
        "manhattan = lambda x1, x2: np.sum(np.abs(x1 - x2), axis=-1)\n",
        "\n",
        "def evaluate_acc(pred, test):\n",
        "  accuracy = np.sum(pred == test)/test.shape[0]\n",
        "  # print(f'Accuracy is {accuracy*100:.1f}.')\n",
        "  return accuracy\n",
        "\n",
        "class KNN:\n",
        "  def __init__(self, k=3, distance_fn=euclidean):\n",
        "    self.k = k\n",
        "    self.distance_fn = distance_fn\n",
        "    return\n",
        "\n",
        "  def fit(self, x_train, y_train):\n",
        "    self.x_train = x_train\n",
        "    self.y_train = y_train\n",
        "    self.C = np.max(y_train) + 1\n",
        "    return self\n",
        "\n",
        "\n",
        "  def predict(self, x_test):\n",
        "    num_test = x_test.shape[0]\n",
        "    distances = [self.distance_fn(x, x_train) for x in x_test for x_train in self.x_train]\n",
        "    distances = np.array(distances).reshape(num_test, -1)\n",
        "    knns = np.argsort(distances, axis=1)[:, :self.k]\n",
        "    y_prob = np.zeros((num_test, self.C))\n",
        "\n",
        "    for i in range(num_test):\n",
        "      y_prob[i, :] = np.bincount(self.y_train[knns[i, :]], minlength=self.C)\n",
        "\n",
        "    y_prob /= self.k\n",
        "    return y_prob, knns"
      ]
    },
    {
      "cell_type": "markdown",
      "metadata": {
        "id": "NM5bTCFd_ifD"
      },
      "source": [
        "#### 2.2 DT"
      ]
    },
    {
      "cell_type": "code",
      "execution_count": 12,
      "metadata": {
        "id": "oJeWSZF6E5a_"
      },
      "outputs": [],
      "source": [
        "import numpy as np\n",
        "#%matplotlib notebook\n",
        "%matplotlib inline\n",
        "import matplotlib.pyplot as plt\n",
        "from IPython.core.debugger import set_trace\n",
        "np.random.seed(1234)"
      ]
    },
    {
      "cell_type": "code",
      "execution_count": 13,
      "metadata": {
        "id": "OqpgDwCPGh08"
      },
      "outputs": [],
      "source": [
        "\"\"\"\n",
        "Cost functions\n",
        "\"\"\"\n",
        "\n",
        "#computes misclassification cost by subtracting the maximum probability of any class\n",
        "def cost_misclassification(labels):\n",
        "    counts = np.bincount(labels)\n",
        "    class_probs = counts / np.sum(counts)\n",
        "    #you could compress both the steps above by doing class_probs = np.bincount(labels) / len(labels)\n",
        "    return 1 - np.max(class_probs)\n",
        "\n",
        "#computes entropy of the labels by computing the class probabilities\n",
        "def cost_entropy(labels):\n",
        "    class_probs = np.bincount(labels) / len(labels)\n",
        "    class_probs = class_probs[class_probs > 0]              #this steps is remove 0 probabilities for removing numerical issues while computing log\n",
        "    return -np.sum(class_probs * np.log2(class_probs))       #expression for entropy -\\sigma p(x)log[p(x)]\n",
        "\n",
        "#computes the gini index cost\n",
        "def cost_gini_index(labels):\n",
        "    class_probs = np.bincount(labels) / len(labels)\n",
        "    return 1 - np.sum(np.square(class_probs))               #expression for gini index 1-\\sigma p(x)^2"
      ]
    },
    {
      "cell_type": "code",
      "execution_count": 14,
      "metadata": {
        "id": "KOQ_Nn1WHvQ3"
      },
      "outputs": [],
      "source": [
        "class DecisionTree:\n",
        "    def __init__(self, num_classes=None, max_depth=3, cost_fn=cost_misclassification, min_leaf_instances=1):\n",
        "        self.max_depth = max_depth      #maximum dept for termination\n",
        "        self.root = None                #stores the root of the decision tree\n",
        "        self.cost_fn = cost_fn          #stores the cost function of the decision tree\n",
        "        self.num_classes = num_classes  #stores the total number of classes\n",
        "        self.min_leaf_instances = min_leaf_instances  #minimum number of instances in a leaf for termination\n",
        "        self.feature_importance_count = {}  # Initialize feature importance tracking\n",
        "\n",
        "    def fit(self, X, y):\n",
        "        self.feature_importance_count = {i: 0 for i in range(X.shape[1])}  # Reset for each fit\n",
        "        self.tree = self._build_tree(X, y)\n",
        "\n",
        "    def _build_tree(self, X, y, depth=0):\n",
        "        num_samples, num_features = X.shape\n",
        "        # Check for the stopping conditions\n",
        "        if depth == self.max_depth or num_samples < self.min_leaf_instances or len(set(y)) == 1:\n",
        "            leaf_value = self._most_common_label(y)\n",
        "            return {\"type\": \"leaf\", \"class\": leaf_value}\n",
        "\n",
        "        # Initialize variables to track the best split\n",
        "        best_gain = -float(\"inf\")\n",
        "        split_idx, split_threshold = None, None\n",
        "        for feature_idx in range(num_features):\n",
        "            X_column = X[:, feature_idx]\n",
        "            thresholds = np.unique(X_column)\n",
        "            for threshold in thresholds:\n",
        "                left_idxs, right_idxs = self._split(X_column, threshold)\n",
        "                # Skip if split does not divide the dataset\n",
        "                if len(left_idxs) == 0 or len(right_idxs) == 0:\n",
        "                    continue\n",
        "                gain = self._information_gain(y, left_idxs, right_idxs)\n",
        "                if gain > best_gain:\n",
        "                    best_gain = gain\n",
        "                    split_idx = feature_idx\n",
        "                    split_threshold = threshold\n",
        "        # If no valid split was found, return a leaf\n",
        "        if best_gain == -float(\"inf\"):\n",
        "            leaf_value = self._most_common_label(y)\n",
        "            return {\"type\": \"leaf\", \"class\": leaf_value}\n",
        "        # Perform the best split\n",
        "        left_idxs, right_idxs = self._split(X[:, split_idx], split_threshold)\n",
        "        # Update feature usage count\n",
        "        self.feature_importance_count[split_idx] += 1\n",
        "        # Recursively build the left and right subtrees\n",
        "        left_child = self._build_tree(X[left_idxs, :], y[left_idxs], depth + 1)\n",
        "        right_child = self._build_tree(X[right_idxs, :], y[right_idxs], depth + 1)\n",
        "\n",
        "        # Return the current node\n",
        "        return {\"type\": \"node\", \"feature\": split_idx, \"threshold\": split_threshold, \"left\": left_child, \"right\": right_child}\n",
        "\n",
        "\n",
        "    def _best_criteria(self, X, y):\n",
        "      best_gain = -float(\"inf\")\n",
        "      split_idx, split_threshold = None, None\n",
        "      for feature_idx in range(X.shape[1]):\n",
        "          X_column = X[:, feature_idx]\n",
        "          thresholds = np.unique(X_column)\n",
        "          for threshold in thresholds:\n",
        "              left_idxs, right_idxs = self._split(X_column, threshold)\n",
        "\n",
        "              # I added this check. idk if its legal ?!!..\n",
        "              # Check if either the left or right set of indices is empty. If so, skip\n",
        "              if len(left_idxs) == 0 or len(right_idxs) == 0:\n",
        "                  continue\n",
        "\n",
        "              gain = self._information_gain(y, X_column, threshold)\n",
        "              if gain > best_gain:\n",
        "                  best_gain = gain\n",
        "                  split_idx = feature_idx\n",
        "                  split_threshold = threshold\n",
        "\n",
        "      return split_idx, split_threshold\n",
        "\n",
        "\n",
        "    def _information_gain(self, y, X_column, split_thresh):\n",
        "        parent_loss = self.cost_fn(y)\n",
        "        left_idxs, right_idxs = self._split(X_column, split_thresh)\n",
        "        if len(left_idxs) == 0 or len(right_idxs) == 0:\n",
        "            return 0\n",
        "\n",
        "        n = len(y)\n",
        "        n_l, n_r = len(left_idxs), len(right_idxs)\n",
        "        e_l, e_r = self.cost_fn(y[left_idxs]), self.cost_fn(y[right_idxs])\n",
        "        child_loss = (n_l / n) * e_l + (n_r / n) * e_r\n",
        "        ig = parent_loss - child_loss\n",
        "        return ig\n",
        "\n",
        "    def _split(self, X_column, split_thresh):\n",
        "      # Ensure that split_thresh is a scalar by taking the first element if it's an array\n",
        "      if isinstance(split_thresh, np.ndarray):\n",
        "          split_thresh = split_thresh[0]\n",
        "\n",
        "      left_idxs = np.argwhere(X_column <= split_thresh).flatten()\n",
        "      right_idxs = np.argwhere(X_column > split_thresh).flatten()\n",
        "      return left_idxs, right_idxs\n",
        "\n",
        "\n",
        "    def _most_common_label(self, y):\n",
        "        return np.bincount(y).argmax()\n",
        "\n",
        "    def predict(self, X):\n",
        "        return np.array([self._predict_sample(self.tree, x) for x in X])\n",
        "\n",
        "    def _predict_sample(self, node, sample):\n",
        "        if node[\"type\"] == \"leaf\":\n",
        "            return node[\"class\"]\n",
        "        if sample[node[\"feature\"]] <= node[\"threshold\"]:\n",
        "            return self._predict_sample(node[\"left\"], sample)\n",
        "        return self._predict_sample(node[\"right\"], sample)\n",
        "\n",
        "  # Function to evaluate accuracy\n",
        "    def evaluate_acc(y_true, y_pred):\n",
        "        accuracy = np.sum(y_true == y_pred) / len(y_true)\n",
        "        return accuracy\n"
      ]
    },
    {
      "cell_type": "markdown",
      "metadata": {
        "id": "C-WCZR9pbcy8"
      },
      "source": [
        "### **Task 3: Running experiments**"
      ]
    },
    {
      "cell_type": "markdown",
      "metadata": {
        "id": "CvGvLldDblj3"
      },
      "source": [
        "#### 3.1 - Compare the accuracy and AUROC of KNN and DT algorithm on the two datasets."
      ]
    },
    {
      "cell_type": "markdown",
      "metadata": {
        "id": "_2zmGyoL2AQy"
      },
      "source": [
        "##### KNN Accuracy and AUROC"
      ]
    },
    {
      "cell_type": "code",
      "execution_count": 15,
      "metadata": {
        "id": "cvZpop0Q2ErD"
      },
      "outputs": [],
      "source": [
        "from sklearn.model_selection import train_test_split\n",
        "from sklearn.metrics import roc_curve\n",
        "import random\n",
        "\"\"\"\n",
        "Helper function to split dataset into training and testing\n",
        "and running KNN.\n",
        "\"\"\"\n",
        "def run_KNN_on(df, iterations, df_name, k=3, distance_fn=euclidean, target=\"Class\"):\n",
        "\n",
        "  acc = 0\n",
        "  auroc = 0\n",
        "  seeds = random.sample(range(1, 1000), iterations)\n",
        "\n",
        "  for seed in seeds:\n",
        "\n",
        "    # Split the data into training and testing sets randomly\n",
        "    train_df, test_df = train_test_split(df, test_size=0.2, random_state=seed)\n",
        "\n",
        "    # Separate features (X) and target labels (y) for training set\n",
        "    X_train = train_df.drop(columns=[target])\n",
        "    y_train = train_df[[target]]\n",
        "\n",
        "    # Separate features (X) and target labels (y) for testing set\n",
        "    X_test = test_df.drop(columns=[target])\n",
        "    y_test = test_df[[target]]\n",
        "\n",
        "    # Initialize and fit the KNN model\n",
        "    knn_model = KNN(k=3, distance_fn=distance_fn)\n",
        "    knn_model.fit(X_train.values, y_train.values.flatten())\n",
        "\n",
        "    # Make predictions on the test set\n",
        "    y_pred_prob, _ = knn_model.predict(X_test.values)\n",
        "\n",
        "    ################\n",
        "    ### Accuracy ###\n",
        "    ################\n",
        "\n",
        "    # Convert probabilities to class labels\n",
        "    y_pred = np.argmax(y_pred_prob, axis=1)\n",
        "\n",
        "    # Evaluate accuracy\n",
        "    acc += evaluate_acc(y_pred, y_test.values.flatten())\n",
        "\n",
        "    ###############\n",
        "    #### AUROC ####\n",
        "    ###############\n",
        "\n",
        "    y_test_AUROC = y_test.values.flatten()\n",
        "\n",
        "    # Map original labels to binary format\n",
        "    # Map '2' to '0' (negative class) and '4' to '1' (positive class)\n",
        "    if df_name == \"breast_cancer_df\":\n",
        "      y_test_AUROC = np.where(y_test.values.flatten() == 2, 0, 1)\n",
        "\n",
        "    # Extract probabilities for the positive class\n",
        "    y_pred_prob_positive = y_pred_prob[:, 1]\n",
        "\n",
        "    # Calculate ROC curve\n",
        "    # y_test_AUROC: actual binary labels (0 or 1)\n",
        "    # y_pred_prob_positive: predicted probabilities for the positive class (class label 1)\n",
        "    fpr, tpr, thresholds = roc_curve(y_test_AUROC, y_pred_prob_positive)\n",
        "\n",
        "    # Calculate AUROC by integrating TPR over FPR\n",
        "    # This integration can be approximated by calculating the area under the curve using the trapezoidal rule\n",
        "    auroc += np.trapz(tpr, fpr)\n",
        "\n",
        "  avg_acc = acc / (len(seeds))\n",
        "  avg_auroc = auroc / (len(seeds))\n",
        "\n",
        "  print('\\n' + \"Average accuracy for \" + str(len(seeds)) + \" iterations: \" + str(avg_acc))\n",
        "  print(\"Average AUROC for \" + str(len(seeds)) + \" iterations: \" + str(avg_auroc) + '\\n')"
      ]
    },
    {
      "cell_type": "code",
      "execution_count": 16,
      "metadata": {
        "colab": {
          "base_uri": "https://localhost:8080/"
        },
        "id": "KeD-mc9SDEMu",
        "outputId": "6e4275a8-fb9c-4f7f-c3ab-c93d54697f2b"
      },
      "outputs": [
        {
          "output_type": "stream",
          "name": "stdout",
          "text": [
            "Breast Cancer Dataset\n",
            "\n",
            "Original dataset KNN with Euclidean\n",
            "\n",
            "Average accuracy for 5 iterations: 0.9700000000000001\n",
            "Average AUROC for 5 iterations: 0.5\n",
            "\n",
            "\n",
            "NHANES Age Prediction Dataset\n",
            "\n",
            "Original dataset KNN with Euclidean\n",
            "\n",
            "Average accuracy for 5 iterations: 0.8105263157894737\n",
            "Average AUROC for 5 iterations: 0.6479246048317098\n",
            "\n"
          ]
        }
      ],
      "source": [
        "iterations = 5\n",
        "\n",
        "print(\"Breast Cancer Dataset\\n\")\n",
        "print(\"Original dataset KNN with Euclidean\")\n",
        "\n",
        "# Run on original breast cancer dataset\n",
        "run_KNN_on(df=breast_cancer_df, iterations=iterations, df_name=\"breast_cancer_df\")\n",
        "\n",
        "print(\"\\nNHANES Age Prediction Dataset\\n\")\n",
        "print(\"Original dataset KNN with Euclidean\")\n",
        "# Run on original breast cancer dataset\n",
        "run_KNN_on(df=nhanes_df, target=\"age_group\", iterations=iterations, df_name=\"nhanes_df\")"
      ]
    },
    {
      "cell_type": "markdown",
      "metadata": {
        "id": "YdwcjlBV11mm"
      },
      "source": [
        "##### DT Accuracy and AUROC"
      ]
    },
    {
      "cell_type": "code",
      "execution_count": 17,
      "metadata": {
        "id": "-YcCS1ao10A3"
      },
      "outputs": [],
      "source": [
        "from sklearn.model_selection import train_test_split\n",
        "from sklearn.preprocessing import LabelEncoder\n",
        "import random\n",
        "\n",
        "def run_DTT(df=breast_cancer_df, df_name=\"breast_cancer_df\", target_column=\"Class\", iterations=5, max_depth=3, cost_fn=cost_misclassification, min_leaf_instances=5):\n",
        "  avg_acc = 0\n",
        "  auroc = 0\n",
        "  for seed in random.sample(range(1, 1000), iterations):\n",
        "\n",
        "    # If the target variable is categorical, encode it to integers\n",
        "    label_encoder = LabelEncoder()\n",
        "    y = label_encoder.fit_transform(df[target_column].values)\n",
        "    X = df.drop(columns=[target_column]).values\n",
        "\n",
        "    # Split the data - 80% training, 20% testing\n",
        "    X_train, X_test, y_train, y_test = train_test_split(X, y, test_size=0.2, random_state=seed)\n",
        "\n",
        "    # Initialize the Decision Tree with the number of unique classes in y\n",
        "    num_classes = len(np.unique(y))\n",
        "    tree = DecisionTree(num_classes=num_classes, max_depth=10, cost_fn=cost_misclassification, min_leaf_instances=min_leaf_instances)\n",
        "\n",
        "    # Fit the tree with your training data\n",
        "    tree.fit(X_train, y_train)\n",
        "\n",
        "    # Evaluate the model on the testing set\n",
        "    predictions = tree.predict(X_test)\n",
        "\n",
        "    ################\n",
        "    ### Accuracy ###\n",
        "    ################\n",
        "    accuracy = evaluate_acc(y_test, predictions)\n",
        "    avg_acc += accuracy\n",
        "\n",
        "    ###############\n",
        "    #### AUROC ####\n",
        "    ###############\n",
        "\n",
        "    # Calculate ROC curve\n",
        "    # y_test: actual binary labels (0 or 1)\n",
        "    # predictions: predicted probabilities for the positive class\n",
        "    fpr, tpr, thresholds = roc_curve(y_test, predictions)\n",
        "\n",
        "    # Calculate AUROC by integrating TPR over FPR\n",
        "    # This integration can be approximated by calculating the area under the curve using the trapezoidal rule\n",
        "    auroc += np.trapz(tpr, fpr)\n",
        "\n",
        "  avg_acc = avg_acc/iterations\n",
        "  avg_auroc = auroc/iterations\n",
        "  print(\"\\nAverage Test Accuracy:\", avg_acc)\n",
        "  print(\"Average AUROC: \" + str(avg_auroc) + \"\\n\")"
      ]
    },
    {
      "cell_type": "code",
      "execution_count": 18,
      "metadata": {
        "colab": {
          "base_uri": "https://localhost:8080/"
        },
        "id": "0RvH611QXP9r",
        "outputId": "83f8525d-8767-412f-fdee-87db012d8ef2"
      },
      "outputs": [
        {
          "output_type": "stream",
          "name": "stdout",
          "text": [
            "DT on breast cancer dataset\n",
            "\n",
            "\n",
            "Average Test Accuracy: 0.9442857142857143\n",
            "Average AUROC: 0.9363625236474966\n",
            "\n",
            "DT on nhanes dataset\n",
            "\n",
            "\n",
            "Average Test Accuracy: 0.8061403508771929\n",
            "Average AUROC: 0.5224721812617845\n",
            "\n"
          ]
        }
      ],
      "source": [
        "print(\"DT on breast cancer dataset\\n\")\n",
        "run_DTT()\n",
        "\n",
        "print(\"DT on nhanes dataset\\n\")\n",
        "run_DTT(df=nhanes_df, df_name=\"nhanes_df\", target_column=\"age_group\")"
      ]
    },
    {
      "cell_type": "markdown",
      "metadata": {
        "id": "72ETrjmAyanN"
      },
      "source": [
        "#### 3.2 - Test different K values and see how it affects the training data accuracy and test data accuracy of KNN."
      ]
    },
    {
      "cell_type": "code",
      "execution_count": 19,
      "metadata": {
        "id": "cx-04FVeeBTE"
      },
      "outputs": [],
      "source": [
        "import numpy as np\n",
        "from sklearn.model_selection import train_test_split\n",
        "from sklearn.metrics import roc_curve\n",
        "import random\n",
        "\n",
        "def KNN_on_diff_k(df, k_values, iterations, distance_fn=euclidean, target=\"Class\"):\n",
        "\n",
        "    train_acc_results = []\n",
        "    test_acc_results = []\n",
        "\n",
        "    for k in k_values:\n",
        "\n",
        "        avg_train_acc = 0\n",
        "        avg_test_acc = 0\n",
        "\n",
        "        for seed in random.sample(range(1, 1000), iterations):\n",
        "\n",
        "            # Split the data into training and testing sets randomly\n",
        "            train_df, test_df = train_test_split(df, test_size=0.2, random_state=seed)\n",
        "\n",
        "            # Separate features (X) and target labels (y) for training and testing sets\n",
        "            X_train, y_train = train_df.drop(columns=[target]), train_df[target]\n",
        "            X_test, y_test = test_df.drop(columns=[target]), test_df[target]\n",
        "\n",
        "            # Initialize and fit the KNN model\n",
        "            knn_model = KNN(k=k, distance_fn=distance_fn)\n",
        "            knn_model.fit(X_train.values, y_train.values.flatten())\n",
        "\n",
        "            # Make predictions on the test set and calculate test accuracy\n",
        "            y_pred_test = np.argmax(knn_model.predict(X_test.values)[0], axis=1)\n",
        "            test_acc = evaluate_acc(y_pred_test, y_test.values.flatten())\n",
        "            avg_test_acc += test_acc\n",
        "\n",
        "            # Make predictions on the training set and calculate training accuracy\n",
        "            y_pred_train = np.argmax(knn_model.predict(X_train.values)[0], axis=1)\n",
        "            train_acc = evaluate_acc(y_pred_train, y_train.values.flatten())\n",
        "            avg_train_acc += train_acc\n",
        "\n",
        "        # Compute and display average training and test accuracy, and AUROC for the current k\n",
        "        avg_train_acc /= iterations\n",
        "        avg_test_acc /= iterations\n",
        "\n",
        "        train_acc_results.append(avg_train_acc)\n",
        "        test_acc_results.append(avg_test_acc)\n",
        "\n",
        "    return train_acc_results, test_acc_results"
      ]
    },
    {
      "cell_type": "markdown",
      "metadata": {
        "id": "rmstWwdynbgQ"
      },
      "source": [
        "##### Breast Cancer dataset\n",
        "Given the breast cancer dataset has 699 instances and since we are using a test-train split where 20% of the data is used for testing, we will end up having approximately 559 instances (80% of 699) in the training set. Based on this, we pick different values for k between 1 to 559.\n",
        "\n",
        "* k = 1: The smallest possible value, considering the nearest neighbor only. It usually leads to a highly complex model with potential overfitting.\n",
        "\n",
        "* k = 3: Small enough to be sensitive to noise, but starts to incorporate more neighborhood information.\n",
        "\n",
        "* k = 5: A commonly used starting value in KNN.\n",
        "\n",
        "* k = 7: Increasing k to reduce the effect of noise on the classification.\n",
        "\n",
        "* k = 11: A middle-ground value.\n",
        "\n",
        "* k = 15: Moving towards larger neighborhoods.\n",
        "\n",
        "* k = 23: Approaching the square root of the number of training instances (square root of 559 is approximately 23.6).\n",
        "\n",
        "* k = 27: A value slightly above the square root heuristic.\n",
        "\n",
        "* k = 35: A larger value to observe the effect of a wider neighborhood.\n",
        "\n",
        "* k = 45: A relatively large value, but still less than 10% of the training data size.\n",
        "\n",
        "[Sources](https://towardsdatascience.com/how-to-find-the-optimal-value-of-k-in-knn-35d936e554eb#:~:text=The%20optimal%20K%20value%20usually,be%20aware%20of%20the%20outliers.)."
      ]
    },
    {
      "cell_type": "code",
      "execution_count": null,
      "metadata": {
        "colab": {
          "background_save": true
        },
        "id": "VF_fCIZWt34G"
      },
      "outputs": [],
      "source": [
        "!pip install matplotlib"
      ]
    },
    {
      "cell_type": "code",
      "execution_count": 20,
      "metadata": {
        "colab": {
          "base_uri": "https://localhost:8080/",
          "height": 582
        },
        "id": "0HERPrOd2PjE",
        "outputId": "ec841666-dc4d-4399-c326-91a5fb944fa5"
      },
      "outputs": [
        {
          "output_type": "stream",
          "name": "stdout",
          "text": [
            "Running KNN on breast cancer dataset\n"
          ]
        },
        {
          "output_type": "display_data",
          "data": {
            "text/plain": [
              "<Figure size 1000x600 with 1 Axes>"
            ],
            "image/png": "[encoded data removed]"
          },
          "metadata": {}
        }
      ],
      "source": [
        "k_values_breast_cancer = [1, 3, 5, 7, 11, 15, 23, 27, 35, 45]\n",
        "iterations = 3\n",
        "\n",
        "print(\"Running KNN on breast cancer dataset\")\n",
        "train_acc, test_acc = KNN_on_diff_k(df=breast_cancer_df, k_values=k_values_breast_cancer, iterations=iterations, target=\"Class\")\n",
        "\n",
        "# Plotting\n",
        "plt.figure(figsize=(10, 6))\n",
        "plt.plot(k_values_breast_cancer, train_acc, label='Training Accuracy')\n",
        "plt.plot(k_values_breast_cancer, test_acc, label='Testing Accuracy')\n",
        "plt.xlabel('Number of Neighbors: k')\n",
        "plt.ylabel('Accuracy')\n",
        "plt.title('KNN Accuracy on breast cancer dataset vs. Number of Neighbors')\n",
        "plt.legend()\n",
        "plt.grid(True)\n",
        "plt.show()"
      ]
    },
    {
      "cell_type": "markdown",
      "metadata": {
        "id": "wOcrgXnBrb6v"
      },
      "source": [
        "##### nhanes dataset\n",
        "Similarly, the nhanes dataset has 6287 instances and with a 20% test split, the training set will have approximately 5029 instances (80% of 6287).\n",
        "\n",
        "* k = 1: The smallest value\n",
        "\n",
        "* k = 3: Another small value\n",
        "\n",
        "* k = 5: A common default choice for KNN\n",
        "\n",
        "* k = 15: A moderate value that captures a larger neighborhood.\n",
        "\n",
        "* k = 31: Another moderate value.\n",
        "\n",
        "* k = 51: A larger value, good for datasets with a lot of noise.\n",
        "\n",
        "* k = 71: Approaching the square root of the number of training instances (square root of 5029 is approximately 70.9).\n",
        "\n",
        "* k = 79: A value slightly above the square root heuristic.\n",
        "\n",
        "* k = 107: A larger value to observe the effect of a wider neighborhood.\n",
        "\n",
        "* k = 151: A relatively large value, but still less than 10% of the training data size."
      ]
    },
    {
      "cell_type": "code",
      "execution_count": 21,
      "metadata": {
        "colab": {
          "base_uri": "https://localhost:8080/",
          "height": 582
        },
        "id": "g-OGDKBuraWS",
        "outputId": "f3fc92b2-4e15-4296-eda5-210a21a4f64a"
      },
      "outputs": [
        {
          "output_type": "stream",
          "name": "stdout",
          "text": [
            "Running KNN on nhanes dataset\n"
          ]
        },
        {
          "output_type": "display_data",
          "data": {
            "text/plain": [
              "<Figure size 1000x600 with 1 Axes>"
            ],
            "image/png": "[encoded data removed]"
          },
          "metadata": {}
        }
      ],
      "source": [
        "k_values_nhanes = [1, 3, 5, 15, 31, 51, 71, 79, 107, 151]\n",
        "iterations = 3\n",
        "\n",
        "print(\"Running KNN on nhanes dataset\")\n",
        "train_acc, test_acc = KNN_on_diff_k(df=nhanes_df, k_values=k_values_nhanes, iterations=iterations, target=\"age_group\")\n",
        "\n",
        "# Plotting\n",
        "plt.figure(figsize=(10, 6))\n",
        "plt.plot(k_values_nhanes, train_acc, label='Training Accuracy')\n",
        "plt.plot(k_values_nhanes, test_acc, label='Testing Accuracy')\n",
        "plt.xlabel('Number of Neighbors: k')\n",
        "plt.ylabel('Accuracy')\n",
        "plt.title('KNN Accuracy on nhanes dataset vs. Number of Neighbors')\n",
        "plt.legend()\n",
        "plt.grid(True)\n",
        "plt.show()"
      ]
    },
    {
      "cell_type": "markdown",
      "metadata": {
        "id": "5KlOd0nbykKP"
      },
      "source": [
        "#### 3.3 - Check how maximum tree depth can affect the performance of DT on the provided datasets."
      ]
    },
    {
      "cell_type": "code",
      "execution_count": 22,
      "metadata": {
        "id": "KGuZcrzJxiy9"
      },
      "outputs": [],
      "source": [
        "import numpy as np\n",
        "from sklearn.model_selection import train_test_split\n",
        "import random\n",
        "import matplotlib.pyplot as plt\n",
        "\n",
        "def DTT_on_diff_depth(df, target_column, depth_values, iterations, cost_fn, min_leaf_instances):\n",
        "    train_acc_results = []\n",
        "    test_acc_results = []\n",
        "\n",
        "    for max_depth in depth_values:\n",
        "        avg_train_acc = 0\n",
        "        avg_test_acc = 0\n",
        "\n",
        "        for seed in random.sample(range(1, 1000), iterations):\n",
        "\n",
        "            label_encoder = LabelEncoder()\n",
        "            y = label_encoder.fit_transform(df[target_column].values)\n",
        "            X = df.drop(columns=[target_column]).values\n",
        "\n",
        "            X_train, X_test, y_train, y_test = train_test_split(X, y, test_size=0.2, random_state=seed)\n",
        "            num_classes = len(np.unique(y))\n",
        "            tree = DecisionTree(num_classes=num_classes, max_depth=max_depth, cost_fn=cost_fn, min_leaf_instances=min_leaf_instances)\n",
        "            tree.fit(X_train, y_train)\n",
        "\n",
        "            # Evaluate the model on the training set\n",
        "            predictions_train = tree.predict(X_train)\n",
        "            train_acc = evaluate_acc(y_train, predictions_train)\n",
        "            avg_train_acc += train_acc\n",
        "\n",
        "            # Evaluate the model on the testing set\n",
        "            predictions_test = tree.predict(X_test)\n",
        "            test_acc = evaluate_acc(y_test, predictions_test)\n",
        "            avg_test_acc += test_acc\n",
        "\n",
        "        avg_train_acc /= iterations\n",
        "        avg_test_acc /= iterations\n",
        "        train_acc_results.append(avg_train_acc)\n",
        "        test_acc_results.append(avg_test_acc)\n",
        "\n",
        "    return train_acc_results, test_acc_results"
      ]
    },
    {
      "cell_type": "markdown",
      "metadata": {
        "id": "vqTAIp5mE8II"
      },
      "source": [
        "##### Breast Cancer dataset\n",
        "\n",
        "For the Breast cancer dataset, which has 9 features, we started from a depth of 1 and moved up to a depth where each feature can be used at least once (considering some splits might use the same feature more than once). For 9 features, a depth greater than 9 is might be excessive for a dataset of this size.\n",
        "\n",
        "The shallower trees (lower max_depth) risk underfitting the data (too simple to capture the patterns), while deeper trees risk overfitting (too complex, capturing noise). The range from 1 to around 12 was chosen to explore this trade-off.\n",
        "\n",
        "[Sources](https://medium.com/@ompramod9921/decision-trees-8e2391f93fa7)."
      ]
    },
    {
      "cell_type": "code",
      "execution_count": 23,
      "metadata": {
        "colab": {
          "base_uri": "https://localhost:8080/",
          "height": 564
        },
        "id": "u4Sl1KnnzfPu",
        "outputId": "78246f21-2f0b-4622-b93d-797132e1b8f0"
      },
      "outputs": [
        {
          "output_type": "display_data",
          "data": {
            "text/plain": [
              "<Figure size 1000x600 with 1 Axes>"
            ],
            "image/png": "[encoded data removed]"
          },
          "metadata": {}
        }
      ],
      "source": [
        "# Define depth_values and run the function\n",
        "depth_values_breast_cancer = [1, 2, 3, 4, 5, 6, 7, 8, 10, 12]\n",
        "iterations = 3\n",
        "train_acc, test_acc = DTT_on_diff_depth(df=breast_cancer_df, target_column=\"Class\", depth_values=depth_values_breast_cancer, iterations=iterations, cost_fn=cost_misclassification, min_leaf_instances=5)\n",
        "\n",
        "# Plotting\n",
        "plt.figure(figsize=(10, 6))\n",
        "plt.plot(depth_values_breast_cancer, train_acc, label='Training Accuracy')\n",
        "plt.plot(depth_values_breast_cancer, test_acc, label='Testing Accuracy')\n",
        "plt.xlabel('Maximum Tree Depth')\n",
        "plt.ylabel('Accuracy')\n",
        "plt.title('Decision Tree Accuracy on breast cancer dataset vs. Maximum Tree Depth')\n",
        "plt.legend()\n",
        "plt.grid(True)\n",
        "plt.show()"
      ]
    },
    {
      "cell_type": "markdown",
      "metadata": {
        "id": "xRbO1NdgE8rX"
      },
      "source": [
        "##### nhanes dataset\n",
        "\n",
        "For the nhanes dataset, which has 7 features, we started from a depth of 1 and moved up to a depth which balences the dataset size and number of features.\n",
        "\n",
        "Compared to the Breast cancer dataset, larger datasets can generally support deeper trees because they provide more information and are less likely to overfit at moderate depths. So for the nhanes dataset with 6287 instances, there's more flexibility to explore deeper trees compared to smaller datasets.\n",
        "\n",
        "The more features you have, the more complex the decision boundaries become. With fewer features (7 rather than 9), extremely deep trees might start focusing on noise, leading to overfitting. In datasets with more features, deeper trees might be necessary to capture the interactions between a larger number of features.\n",
        "\n",
        "[Sources](https://www.youtube.com/watch?v=Awymq2AJc5o&ab_channel=MachineLearningLessons)."
      ]
    },
    {
      "cell_type": "code",
      "execution_count": 24,
      "metadata": {
        "colab": {
          "base_uri": "https://localhost:8080/",
          "height": 564
        },
        "id": "5WqyKergC9kJ",
        "outputId": "4268e1c8-39d7-49a2-9362-bd481b7d826a"
      },
      "outputs": [
        {
          "output_type": "display_data",
          "data": {
            "text/plain": [
              "<Figure size 1000x600 with 1 Axes>"
            ],
            "image/png": "[encoded data removed]"
          },
          "metadata": {}
        }
      ],
      "source": [
        "# Define depth_values and run the function\n",
        "depth_values_nhanes = [1, 2, 3, 4, 5, 6, 8, 10, 12, 15]\n",
        "iterations = 3\n",
        "train_acc, test_acc = DTT_on_diff_depth(df=nhanes_df, target_column=\"age_group\", depth_values=depth_values_nhanes, iterations=iterations, cost_fn=cost_misclassification, min_leaf_instances=5)\n",
        "\n",
        "# Plotting\n",
        "plt.figure(figsize=(10, 6))\n",
        "plt.plot(depth_values_nhanes, train_acc, label='Training Accuracy')\n",
        "plt.plot(depth_values_nhanes, test_acc, label='Testing Accuracy')\n",
        "plt.xlabel('Maximum Tree Depth')\n",
        "plt.ylabel('Accuracy')\n",
        "plt.title('Decision Tree Accuracy on nhanes dataset vs. Maximum Tree Depth')\n",
        "plt.legend()\n",
        "plt.grid(True)\n",
        "plt.show()"
      ]
    },
    {
      "cell_type": "markdown",
      "metadata": {
        "id": "F_uvekKzypv2"
      },
      "source": [
        "#### 3.4 - Try out different distance/cost functions for both models."
      ]
    },
    {
      "cell_type": "markdown",
      "metadata": {
        "id": "XV-8PL8l2o96"
      },
      "source": [
        "##### Testing different distance models on KNN"
      ]
    },
    {
      "cell_type": "code",
      "execution_count": 26,
      "metadata": {
        "colab": {
          "base_uri": "https://localhost:8080/"
        },
        "id": "0pMY9L6j2n29",
        "outputId": "02e411b7-2d85-4ea2-d5bb-9c918f2ebe05"
      },
      "outputs": [
        {
          "output_type": "stream",
          "name": "stdout",
          "text": [
            "Breast Cancer Dataset\n",
            "\n",
            "Original dataset KNN with Euclidean\n",
            "\n",
            "Average accuracy for 5 iterations: 0.9714285714285713\n",
            "Average AUROC for 5 iterations: 0.5\n",
            "\n",
            "Original dataset KNN with Manhattan\n",
            "\n",
            "Average accuracy for 5 iterations: 0.9542857142857143\n",
            "Average AUROC for 5 iterations: 0.5\n",
            "\n",
            "Dataset without least important feature KNN with Manhattan\n",
            "\n",
            "NHANES Age Prediction Dataset\n",
            "\n",
            "Original dataset KNN with Euclidean\n",
            "\n",
            "Average accuracy for 5 iterations: 0.8114035087719298\n",
            "Average AUROC for 5 iterations: 0.6183020506212787\n",
            "\n",
            "Original dataset KNN with Manhattan\n",
            "\n",
            "Average accuracy for 5 iterations: 0.8162280701754385\n",
            "Average AUROC for 5 iterations: 0.6469640741690629\n",
            "\n"
          ]
        }
      ],
      "source": [
        "iterations = 5\n",
        "\n",
        "print(\"Breast Cancer Dataset\\n\")\n",
        "print(\"Original dataset KNN with Euclidean\")\n",
        "# Run on original breast cancer dataset\n",
        "run_KNN_on(df=breast_cancer_df, iterations=iterations, df_name=\"breast_cancer_df\")\n",
        "\n",
        "print(\"Original dataset KNN with Manhattan\")\n",
        "# Run on original breast cancer dataset\n",
        "run_KNN_on(df=breast_cancer_df, iterations=iterations, df_name=\"breast_cancer_df\", distance_fn=manhattan)\n",
        "\n",
        "print(\"Dataset without least important feature KNN with Manhattan\")\n",
        "\n",
        "print(\"\\nNHANES Age Prediction Dataset\\n\")\n",
        "print(\"Original dataset KNN with Euclidean\")\n",
        "# Run on original breast cancer dataset\n",
        "run_KNN_on(df=nhanes_df, target=\"age_group\", iterations=iterations, df_name=\"nhanes_df\")\n",
        "\n",
        "print(\"Original dataset KNN with Manhattan\")\n",
        "# Run on original breast cancer dataset\n",
        "run_KNN_on(df=nhanes_df, target=\"age_group\", iterations=iterations, df_name=\"nhanes_df\", distance_fn=manhattan)"
      ]
    },
    {
      "cell_type": "markdown",
      "metadata": {
        "id": "xCvxiJ17LncQ"
      },
      "source": [
        "##### Testing different cost models on DT"
      ]
    },
    {
      "cell_type": "code",
      "execution_count": 27,
      "metadata": {
        "colab": {
          "base_uri": "https://localhost:8080/"
        },
        "id": "FT0yvdzGLsS-",
        "outputId": "ac60aa75-4da9-4e5e-d646-3cc9f6d7afbf"
      },
      "outputs": [
        {
          "output_type": "stream",
          "name": "stdout",
          "text": [
            "--- Cost with Misclassification Model ---\n",
            "\n",
            "CM on breast cancer dataset\n",
            "\n",
            "Average Test Accuracy: 0.9185714285714287\n",
            "Average AUROC: 0.9068215424708443\n",
            "\n",
            "CM on nhanes dataset\n",
            "\n",
            "Average Test Accuracy: 0.8271929824561404\n",
            "Average AUROC: 0.5268349806457152\n",
            "\n",
            "--- Cost with Entropy Model ---\n",
            "\n",
            "Entropy on breast cancer dataset\n",
            "\n",
            "Average Test Accuracy: 0.9357142857142857\n",
            "Average AUROC: 0.9351922732350092\n",
            "\n",
            "Entropy on nhanes dataset\n",
            "\n",
            "Average Test Accuracy: 0.8166666666666668\n",
            "Average AUROC: 0.5260818633962044\n",
            "\n",
            "--- Cost with Gini index Model ---\n",
            "\n",
            "GI on breast cancer dataset\n",
            "\n",
            "Average Test Accuracy: 0.9457142857142857\n",
            "Average AUROC: 0.9367747944415614\n",
            "\n",
            "GI on nhanes dataset\n",
            "\n",
            "Average Test Accuracy: 0.8285087719298246\n",
            "Average AUROC: 0.5198419952206426\n",
            "\n"
          ]
        }
      ],
      "source": [
        "print(\"--- Cost with Misclassification Model ---\\n\")\n",
        "print(\"CM on breast cancer dataset\")\n",
        "run_DTT()\n",
        "\n",
        "print(\"CM on nhanes dataset\")\n",
        "run_DTT(df=nhanes_df, df_name=\"nhanes_df\", target_column=\"age_group\")\n",
        "\n",
        "print(\"--- Cost with Entropy Model ---\\n\")\n",
        "print(\"Entropy on breast cancer dataset\")\n",
        "run_DTT(cost_fn=cost_entropy)\n",
        "\n",
        "print(\"Entropy on nhanes dataset\")\n",
        "run_DTT(df=nhanes_df, df_name=\"nhanes_df\", target_column=\"age_group\", cost_fn=cost_entropy)\n",
        "\n",
        "print(\"--- Cost with Gini index Model ---\\n\")\n",
        "print(\"GI on breast cancer dataset\")\n",
        "run_DTT(cost_fn=cost_gini_index)\n",
        "\n",
        "print(\"GI on nhanes dataset\")\n",
        "run_DTT(df=nhanes_df, df_name=\"nhanes_df\", target_column=\"age_group\", cost_fn=cost_gini_index)"
      ]
    },
    {
      "cell_type": "markdown",
      "metadata": {
        "id": "f_LFD6e1ytUM"
      },
      "source": [
        "#### 3.5 - Plot the ROC for KNN and DT on the test data."
      ]
    },
    {
      "cell_type": "code",
      "execution_count": 28,
      "metadata": {
        "id": "xR7liz7nR9I7"
      },
      "outputs": [],
      "source": [
        "from sklearn.model_selection import train_test_split\n",
        "from sklearn.metrics import roc_curve\n",
        "import random\n",
        "\n",
        "def get_KNN_AUROC(df, iterations, df_name, k=3, distance_fn=euclidean, target=\"Class\"):\n",
        "\n",
        "  seed = random.randint(1, 1000)\n",
        "\n",
        "  # Split the data into training and testing sets randomly\n",
        "  train_df, test_df = train_test_split(df, test_size=0.2, random_state=seed)\n",
        "\n",
        "  # Separate features (X) and target labels (y) for training set\n",
        "  X_train = train_df.drop(columns=[target])\n",
        "  y_train = train_df[[target]]\n",
        "\n",
        "  # Separate features (X) and target labels (y) for testing set\n",
        "  X_test = test_df.drop(columns=[target])\n",
        "  y_test = test_df[[target]]\n",
        "\n",
        "  # Initialize and fit the KNN model\n",
        "  knn_model = KNN(k=3, distance_fn=distance_fn)\n",
        "  knn_model.fit(X_train.values, y_train.values.flatten())\n",
        "\n",
        "  # Make predictions on the test set\n",
        "  y_pred_prob, _ = knn_model.predict(X_test.values)\n",
        "\n",
        "  ###############\n",
        "  #### AUROC ####\n",
        "  ###############\n",
        "\n",
        "  y_test_AUROC = y_test.values.flatten()\n",
        "\n",
        "  # Map original labels to binary format\n",
        "  # Map '2' to '0' (negative class) and '4' to '1' (positive class)\n",
        "  if df_name == \"breast_cancer_df\":\n",
        "    y_test_AUROC = np.where(y_test.values.flatten() == 2, 0, 1)\n",
        "\n",
        "  # Extract probabilities for the positive class\n",
        "  y_pred_prob_positive = y_pred_prob[:, 1]\n",
        "\n",
        "  # Calculate ROC curve\n",
        "  # y_test_AUROC: actual binary labels (0 or 1)\n",
        "  # y_pred_prob_positive: predicted probabilities for the positive class (class label 1)\n",
        "  fpr, tpr, thresholds = roc_curve(y_test_AUROC, y_pred_prob_positive)\n",
        "\n",
        "  # Calculate AUROC by integrating TPR over FPR\n",
        "  # This integration can be approximated by calculating the area under the curve using the trapezoidal rule\n",
        "  return fpr, tpr, np.trapz(tpr, fpr)"
      ]
    },
    {
      "cell_type": "code",
      "execution_count": 29,
      "metadata": {
        "id": "_dQ9iXvDTImn"
      },
      "outputs": [],
      "source": [
        "from sklearn.model_selection import train_test_split\n",
        "from sklearn.metrics import roc_curve\n",
        "from sklearn.preprocessing import LabelEncoder\n",
        "import random\n",
        "\n",
        "def get_DT_AUROC(df=breast_cancer_df, target_column=\"Class\", iterations=5, max_depth=3, cost_fn=cost_misclassification, min_leaf_instances=5):\n",
        "\n",
        "  seed = random.randint(1, 1000)\n",
        "\n",
        "  # If the target variable is categorical, encode it to integers\n",
        "  label_encoder = LabelEncoder()\n",
        "  y = label_encoder.fit_transform(df[target_column].values)\n",
        "  X = df.drop(columns=[target_column]).values\n",
        "\n",
        "  # Split the data - 80% training, 20% testing\n",
        "  X_train, X_test, y_train, y_test = train_test_split(X, y, test_size=0.2, random_state=seed)\n",
        "\n",
        "  # Initialize the Decision Tree with the number of unique classes in y\n",
        "  num_classes = len(np.unique(y))\n",
        "  tree = DecisionTree(num_classes=num_classes, max_depth=10, cost_fn=cost_misclassification, min_leaf_instances=min_leaf_instances)\n",
        "\n",
        "  # Fit the tree with your training data\n",
        "  tree.fit(X_train, y_train)\n",
        "\n",
        "  # Evaluate the model on the testing set\n",
        "  predictions = tree.predict(X_test)\n",
        "\n",
        "  # Calculate ROC curve\n",
        "  # y_test: actual binary labels (0 or 1)\n",
        "  # predictions: predicted probabilities for the positive class\n",
        "  fpr, tpr, thresholds = roc_curve(y_test, predictions)\n",
        "\n",
        "  # Calculate AUROC by integrating TPR over FPR\n",
        "  # This integration can be approximated by calculating the area under the curve using the trapezoidal rule\n",
        "  return fpr, tpr, np.trapz(tpr, fpr)"
      ]
    },
    {
      "cell_type": "markdown",
      "metadata": {
        "id": "S6IhwyNoUmBj"
      },
      "source": [
        "##### Breast Cancer ROC"
      ]
    },
    {
      "cell_type": "code",
      "execution_count": 30,
      "metadata": {
        "colab": {
          "base_uri": "https://localhost:8080/",
          "height": 472
        },
        "id": "lJrOSOzATmof",
        "outputId": "bc443caa-aaa9-4bd8-b7b3-83837f01862f"
      },
      "outputs": [
        {
          "output_type": "display_data",
          "data": {
            "text/plain": [
              "<Figure size 640x480 with 1 Axes>"
            ],
            "image/png": "[encoded data removed]"
          },
          "metadata": {}
        }
      ],
      "source": [
        "fpr_knn_bc, tpr_knn_bc, auroc_knn_bc = get_KNN_AUROC(df=breast_cancer_df, iterations=5, df_name=\"breast_cancer_df\")\n",
        "\n",
        "fpr_dt_bc, tpr_dt_bc, auroc_dt_bc = get_DT_AUROC()\n",
        "\n",
        "# Plot ROC curves\n",
        "plt.figure()\n",
        "plt.plot(fpr_knn_bc, tpr_knn_bc, label=f'KNN AUROC = {auroc_knn_bc:.2f}')\n",
        "plt.plot(fpr_dt_bc, tpr_dt_bc, label=f'DT AUROC = {auroc_dt_bc:.2f}')\n",
        "plt.plot([0, 1], [0, 1], 'k--', lw=2)\n",
        "plt.xlabel('False Positive Rate')\n",
        "plt.ylabel('True Positive Rate')\n",
        "plt.title('ROC Curves for KNN and DT')\n",
        "plt.legend(loc=\"best\")\n",
        "plt.show()"
      ]
    },
    {
      "cell_type": "markdown",
      "metadata": {
        "id": "x2eTs-J6UplK"
      },
      "source": [
        "##### nhanes ROC"
      ]
    },
    {
      "cell_type": "code",
      "execution_count": 31,
      "metadata": {
        "colab": {
          "base_uri": "https://localhost:8080/",
          "height": 472
        },
        "id": "eZs9rMG1T4Fd",
        "outputId": "e60f6796-9994-41ec-9624-34790f3236c5"
      },
      "outputs": [
        {
          "output_type": "display_data",
          "data": {
            "text/plain": [
              "<Figure size 640x480 with 1 Axes>"
            ],
            "image/png": "[encoded data removed]"
          },
          "metadata": {}
        }
      ],
      "source": [
        "fpr_knn_nhanes, tpr_knn_nhanes, auroc_knn_nhanes = get_KNN_AUROC(df=nhanes_df, iterations=5, df_name=\"nhanes_df\", target=\"age_group\")\n",
        "\n",
        "fpr_dt_nhanes, tpr_dt_nhanes, auroc_dt_nhanes = get_DT_AUROC(df=nhanes_df, target_column=\"age_group\")\n",
        "\n",
        "plt.figure()\n",
        "plt.plot(fpr_knn_nhanes, tpr_knn_nhanes, label=f'KNN AUROC = {auroc_knn_nhanes:.2f}')\n",
        "plt.plot(fpr_dt_nhanes, tpr_dt_nhanes, label=f'DT AUROC = {auroc_dt_nhanes:.2f}')\n",
        "plt.plot([0, 1], [0, 1], 'k--', lw=2)\n",
        "plt.xlabel('False Positive Rate')\n",
        "plt.ylabel('True Positive Rate')\n",
        "plt.title('ROC Curves for KNN and DT')\n",
        "plt.legend(loc=\"best\")\n",
        "plt.show()"
      ]
    },
    {
      "cell_type": "markdown",
      "metadata": {
        "id": "r4NTKbSzyzoR"
      },
      "source": [
        "#### 3.6 - Describe how you obtain the key features used in KNN (e.g., external feature selection by correlation with the labels)."
      ]
    },
    {
      "cell_type": "code",
      "execution_count": 32,
      "metadata": {
        "colab": {
          "base_uri": "https://localhost:8080/"
        },
        "id": "V4PyO28-xBzk",
        "outputId": "0d4ae38a-559a-46ef-e609-deef6daf3d3d"
      },
      "outputs": [
        {
          "output_type": "stream",
          "name": "stdout",
          "text": [
            "\n",
            "NHANES Age Prediction Dataset - original\n",
            "\n",
            "\n",
            "Average accuracy for 5 iterations: 0.8043859649122806\n",
            "Average AUROC for 5 iterations: 0.6456793477884469\n",
            "\n",
            "Dropping 1 least important feature: RIAGENDR. NHANES dataset is now of size (2278, 8)\n",
            "\n",
            "Average accuracy for 5 iterations: 0.8004385964912281\n",
            "Average AUROC for 5 iterations: 0.650340440193935\n",
            "\n",
            "Dropping 2 least important feature: BMXBMI. NHANES dataset is now of size (2278, 7)\n",
            "\n",
            "Average accuracy for 5 iterations: 0.825\n",
            "Average AUROC for 5 iterations: 0.663703154635428\n",
            "\n",
            "Dropping 3 least important feature: DIQ010. NHANES dataset is now of size (2278, 6)\n",
            "\n",
            "Average accuracy for 5 iterations: 0.8206140350877194\n",
            "Average AUROC for 5 iterations: 0.6642861454851517\n",
            "\n",
            "Dropping 4 least important feature: LBXIN. NHANES dataset is now of size (2278, 5)\n",
            "\n",
            "Average accuracy for 5 iterations: 0.7982456140350876\n",
            "Average AUROC for 5 iterations: 0.6045382652701659\n",
            "\n",
            "Dropping 5 least important feature: PAQ605. NHANES dataset is now of size (2278, 4)\n",
            "\n",
            "Average accuracy for 5 iterations: 0.8048245614035088\n",
            "Average AUROC for 5 iterations: 0.6191724001185592\n",
            "\n"
          ]
        }
      ],
      "source": [
        "\"\"\"\n",
        "This was run with 10 iterations to determine which subset of NHANES performs the best under KNN.\n",
        "The following results were achieved.\n",
        "\n",
        "Average accuracy for 10 iterations: 0.8142543859649123\n",
        "Average AUROC for 10 iterations: 0.6389074070001731\n",
        "\n",
        "Dropping 1 least important feature: RIAGENDR. NHANES dataset is now of size (2278, 8)\n",
        "\n",
        "Average accuracy for 10 iterations: 0.813815789473684\n",
        "Average AUROC for 10 iterations: 0.6374112800702385\n",
        "\n",
        "Dropping 2 least important feature: BMXBMI. NHANES dataset is now of size (2278, 7)\n",
        "\n",
        "Average accuracy for 10 iterations: 0.8107456140350877\n",
        "Average AUROC for 10 iterations: 0.6469888054170372\n",
        "\n",
        "Dropping 3 least important feature: DIQ010. NHANES dataset is now of size (2278, 6)\n",
        "\n",
        "Average accuracy for 10 iterations: 0.8153508771929824\n",
        "Average AUROC for 10 iterations: 0.6391804524652739\n",
        "\n",
        "Dropping 4 least important feature: LBXIN. NHANES dataset is now of size (2278, 5)\n",
        "\n",
        "Average accuracy for 10 iterations: 0.7929824561403509\n",
        "Average AUROC for 10 iterations: 0.6073696302628491\n",
        "\n",
        "Dropping 5 least important feature: PAQ605. NHANES dataset is now of size (2278, 4)\n",
        "\n",
        "Average accuracy for 10 iterations: 0.8054824561403506\n",
        "Average AUROC for 10 iterations: 0.6135375750313538\n",
        "\"\"\"\n",
        "iterations = 5\n",
        "\n",
        "print(\"\\nNHANES Age Prediction Dataset - original\\n\")\n",
        "# Run on original breast cancer dataset\n",
        "run_KNN_on(df=nhanes_df, target=\"age_group\", iterations=iterations, df_name=\"nhanes_df\")\n",
        "\"\"\"\n",
        "From the calc_statistics function, we know that NHANES' least important features are:\n",
        "RIAGENDR    0.002767\n",
        "PAQ605      0.094789\n",
        "BMXBMI      0.004147\n",
        "DIQ010      0.026399\n",
        "LBXIN       0.064159\n",
        "\"\"\"\n",
        "refined_nhanes_df = nhanes_df.copy()\n",
        "for idx, feature in enumerate(nhanes_df_least_important_features.index):\n",
        "  print(\"Dropping \" + str(idx+1) + \" least important feature: \" + str(feature) + \". NHANES dataset is now of size \" + str(refined_nhanes_df.shape))\n",
        "  refined_nhanes_df = refined_nhanes_df.drop(columns=[feature])\n",
        "  run_KNN_on(df=refined_nhanes_df, target=\"age_group\", iterations=iterations, df_name=\"nhanes_df\")"
      ]
    },
    {
      "cell_type": "markdown",
      "metadata": {
        "id": "FRge3WUSy_Ie"
      },
      "source": [
        "#### 3.7 - Compute a rough feature importance score for each feature d by counting the number of non-leaf nodes where feature d is used."
      ]
    },
    {
      "cell_type": "markdown",
      "metadata": {
        "id": "s3DiMsIe0eg-"
      },
      "source": [
        "#### For NHANES dataset"
      ]
    },
    {
      "cell_type": "code",
      "execution_count": 33,
      "metadata": {
        "id": "KFpFjgL60I44"
      },
      "outputs": [],
      "source": [
        "import numpy as np\n",
        "\n",
        "X = nhanes_df.drop(columns=['age_group']).values\n",
        "y = nhanes_df['age_group'].values\n",
        "\n",
        "num_classes = len(np.unique(y))  # Determine the number of unique classes in the target\n",
        "cost_fn = cost_misclassification\n",
        "min_leaf_instances = 5"
      ]
    },
    {
      "cell_type": "code",
      "execution_count": 34,
      "metadata": {
        "id": "YyB_GoXy0Mxa"
      },
      "outputs": [],
      "source": [
        "tree = DecisionTree(num_classes=num_classes, max_depth=10, cost_fn=cost_fn, min_leaf_instances=min_leaf_instances)\n",
        "tree.fit(X, y)"
      ]
    },
    {
      "cell_type": "code",
      "execution_count": 35,
      "metadata": {
        "colab": {
          "base_uri": "https://localhost:8080/"
        },
        "id": "UwCR7L5u0PH7",
        "outputId": "b78664f8-c407-4774-d50e-0df9464f1551"
      },
      "outputs": [
        {
          "output_type": "stream",
          "name": "stdout",
          "text": [
            "Top 5 most used features in non-leaf nodes:\n",
            "Feature 2 used 58 times\n",
            "Feature 3 used 31 times\n",
            "Feature 5 used 24 times\n",
            "Feature 6 used 24 times\n",
            "Feature 0 used 15 times\n"
          ]
        }
      ],
      "source": [
        "# Sort features by their usage count and get the top 5\n",
        "sorted_features = sorted(tree.feature_importance_count.items(), key=lambda item: item[1], reverse=True)[:5]\n",
        "\n",
        "print(\"Top 5 most used features in non-leaf nodes:\")\n",
        "for feature, count in sorted_features:\n",
        "    print(f\"Feature {feature} used {count} times\")"
      ]
    },
    {
      "cell_type": "markdown",
      "metadata": {
        "id": "bBuRiiII0Y--"
      },
      "source": [
        "#### For Breast cancer dataset"
      ]
    },
    {
      "cell_type": "code",
      "execution_count": 36,
      "metadata": {
        "colab": {
          "base_uri": "https://localhost:8080/"
        },
        "id": "KLMNidxa0T9M",
        "outputId": "928e6a3e-f715-489d-959a-7ca4279648f2"
      },
      "outputs": [
        {
          "output_type": "stream",
          "name": "stdout",
          "text": [
            "Top 5 most used features in non-leaf nodes for the breast cancer dataset:\n",
            "Clump_thickness used 12 times\n",
            "Marginal_adhesion used 7 times\n",
            "Uniformity_of_cell_size used 5 times\n",
            "Uniformity_of_cell_shape used 5 times\n",
            "Bare_nuclei used 4 times\n"
          ]
        }
      ],
      "source": [
        "import numpy as np\n",
        "\n",
        "feature_columns = [col for col in breast_cancer_df.columns if col != 'Class']\n",
        "X = breast_cancer_df[feature_columns].values\n",
        "y = breast_cancer_df['Class'].values\n",
        "\n",
        "from sklearn.preprocessing import LabelEncoder\n",
        "label_encoder = LabelEncoder()\n",
        "y = label_encoder.fit_transform(y)\n",
        "\n",
        "num_classes = len(np.unique(y))  # Determine the number of unique classes in the target\n",
        "cost_fn = cost_misclassification\n",
        "min_leaf_instances = 5\n",
        "\n",
        "# Initialize and fit the Decision Tree\n",
        "tree = DecisionTree(num_classes=num_classes, max_depth=10, cost_fn=cost_fn, min_leaf_instances=min_leaf_instances)\n",
        "tree.fit(X, y)\n",
        "\n",
        "# Sort features by their usage count and get the top 5\n",
        "sorted_features = sorted(tree.feature_importance_count.items(), key=lambda item: item[1], reverse=True)[:5]\n",
        "\n",
        "print(\"Top 5 most used features in non-leaf nodes for the breast cancer dataset:\")\n",
        "\n",
        "for feature, count in sorted_features:\n",
        "    feature_name = feature_columns[feature]  # Map feature index back to feature name\n",
        "    print(f\"{feature_name} used {count} times\")\n"
      ]
    },
    {
      "cell_type": "markdown",
      "metadata": {
        "id": "gAeKgUT-dwyl"
      },
      "source": [
        "#### 3.8 Model Selection using a Validation Set\n",
        "Split the data into training, validation and testing and use the validation set to select the best K and the best tree depth and evaluate the best choice on the test set."
      ]
    },
    {
      "cell_type": "markdown",
      "metadata": {
        "id": "PN-jnvtTgvi0"
      },
      "source": [
        "1. Split the data into training, validation, and testing\n",
        "sets.\n",
        "2. Define a range of values for k (KNN) and tree depth (DT).\n",
        "3. Train KNN and DT models on the training set using different k and depth values.\n",
        "4. Evaluate each model on the validation set and choose the best k and depth based on performance.\n",
        "5. Retrain models with the best parameters on the combined training and validation set.\n",
        "6. Evaluate these models on the test set."
      ]
    },
    {
      "cell_type": "markdown",
      "metadata": {
        "id": "dLUtBvIihoqY"
      },
      "source": [
        "##### Breast Cancer"
      ]
    },
    {
      "cell_type": "code",
      "execution_count": 49,
      "metadata": {
        "colab": {
          "base_uri": "https://localhost:8080/"
        },
        "id": "ZIy44vaZqpfE",
        "outputId": "4d62783f-be9e-4ba4-e3af-ce0b21193dff"
      },
      "outputs": [
        {
          "output_type": "stream",
          "name": "stdout",
          "text": [
            "KNN Test Accuracy with k= 3: 0.9642857142857143\n"
          ]
        }
      ],
      "source": [
        "from sklearn.model_selection import train_test_split\n",
        "\n",
        "target = \"Class\"\n",
        "seed = random.randint(1, 1000)\n",
        "\n",
        "# First, split into 60% train and 40% remaining\n",
        "train_df, remaining_df = train_test_split(breast_cancer_df, test_size=0.4, random_state=seed)\n",
        "\n",
        "# Separate features (X) and target labels (y)\n",
        "X_train, y_train = train_df.drop(columns=[target]), train_df[[target]]\n",
        "X_remaining, y_remaining = remaining_df.drop(columns=[target]), remaining_df[[target]]\n",
        "\n",
        "# Then split the remaining 40% into half validation and half test\n",
        "X_val, X_test, y_val, y_test = train_test_split(X_remaining, y_remaining, test_size=0.5, random_state=seed)\n",
        "\n",
        "# Define Range of Values, from part 3.2\n",
        "k_values = [1, 3, 5, 7, 11, 15, 23, 27, 35, 45]\n",
        "\n",
        "# Train KNN and DT models on the training set using different k and depth values,\n",
        "# Then evaluate KNN and DT on the validation set and choose the best k and depth value based on performance.\n",
        "best_k = None\n",
        "best_accuracy = 0\n",
        "\n",
        "for k in k_values:\n",
        "\n",
        "  knn_model = KNN(k=k, distance_fn=euclidean)\n",
        "  knn_model.fit(X_train.values, y_train.values.flatten())\n",
        "  y_pred_prob, _ = knn_model.predict(X_val.values)\n",
        "  y_pred_val = np.argmax(y_pred_prob, axis=1)\n",
        "  accuracy = evaluate_acc(y_pred_val, y_val.values.flatten())\n",
        "\n",
        "  if accuracy > best_accuracy:\n",
        "\n",
        "    best_accuracy = accuracy\n",
        "    best_k = k\n",
        "\n",
        "# Retrain models with the best parameters on the combined training and validation set.\n",
        "\n",
        "# Combine training and validation sets\n",
        "X_train_full = pd.concat([X_train, X_val])\n",
        "y_train_full = pd.concat([y_train, y_val])\n",
        "\n",
        "# Retrain KNN\n",
        "knn_model = KNN(k=best_k, distance_fn=euclidean)\n",
        "knn_model.fit(X_train_full.values, y_train_full.values.flatten())\n",
        "\n",
        "# Evaluate these models on the test set.\n",
        "\n",
        "# Evaluate KNN\n",
        "y_pred_knn = np.argmax(knn_model.predict(X_test.values)[0], axis=1)\n",
        "knn_test_accuracy = evaluate_acc(y_pred_knn, y_test.values.flatten())\n",
        "\n",
        "print(\"KNN Test Accuracy with k= \" + str(best_k) + \": \" + str(knn_test_accuracy))\n"
      ]
    }
  ],
  "metadata": {
    "colab": {
      "collapsed_sections": [
        "F_uvekKzypv2"
      ],
      "provenance": [],
      "toc_visible": true,
      "gpuType": "T4"
    },
    "kernelspec": {
      "display_name": "Python 3",
      "name": "python3"
    },
    "language_info": {
      "name": "python"
    },
    "accelerator": "GPU"
  },
  "nbformat": 4,
  "nbformat_minor": 0
}